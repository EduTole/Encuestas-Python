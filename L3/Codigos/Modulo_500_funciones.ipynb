{
 "cells": [
  {
   "cell_type": "markdown",
   "id": "ae7352d4-8204-4158-b6bf-48878dc2bf50",
   "metadata": {},
   "source": [
    "<center style=\"font-size: 2em; font-weight: bold;\"> Base de datos : ENAHO </center>\n",
    "<center style=\"font-size: 2em; font-weight: bold;\"> Modulo: Empleo  </center>\n"
   ]
  },
  {
   "cell_type": "markdown",
   "id": "9fbcd319-7e50-4a7d-8ffc-33bd11cdeb96",
   "metadata": {},
   "source": [
    "El proyecto del presente notebook, esta centrado en poder extraer información de la encuesta nacional de hogares (ENAHO), generando una base a nivel de ingresos y años de educacion\n",
    "\n",
    "Para generar la queña base, la cual sera denominado Mincer, se debe trabajar con variables en las bases de de diferentes modulos de la ENAHO, los cuales son:\n",
    "\n",
    "- Modulo 500 : ingresos y empleo\n",
    "\n"
   ]
  },
  {
   "cell_type": "markdown",
   "id": "82f5202a-82e0-4ab1-bcdb-66fa30538326",
   "metadata": {},
   "source": [
    "# Instalacion de Librerias"
   ]
  },
  {
   "cell_type": "code",
   "execution_count": 1,
   "id": "f89b4646-b845-4a59-85e6-a4f119112acd",
   "metadata": {},
   "outputs": [],
   "source": [
    "import pandas\n",
    "import os\n",
    "import numpy\n",
    "import sys\n",
    "import pyreadstat"
   ]
  },
  {
   "cell_type": "code",
   "execution_count": 2,
   "id": "3c38d34c-d7b3-47e9-b17f-95bbc50d7805",
   "metadata": {},
   "outputs": [],
   "source": [
    "#Ruta de carpetas\n",
    "ruta   = 'D:/Dropbox/BASES/ENAHO'\n",
    "output = 'D:/Dropbox/BASES/ENAHO/Python_scripts'"
   ]
  },
  {
   "cell_type": "code",
   "execution_count": 3,
   "id": "3c6ad60b-2112-4c70-923b-7ec64593a368",
   "metadata": {},
   "outputs": [
    {
     "name": "stdout",
     "output_type": "stream",
     "text": [
      "periodos de enaho: 2020\n",
      "2020\n",
      "D:/Dropbox/BASES/ENAHO\\2020\\enaho01a-2020-500.dta\n",
      "periodos de enaho: 2021\n",
      "2021\n",
      "D:/Dropbox/BASES/ENAHO\\2021\\enaho01a-2021-500.dta\n"
     ]
    }
   ],
   "source": [
    "#Ejemplos de bucles\n",
    "fechas =[2020, 2021]\n",
    "for x in fechas:\n",
    "    print(f\"periodos de enaho: {x}\")\n",
    "    print(x)\n",
    "    print(os.path.join(ruta,f\"{x}\",f'enaho01a-{x}-500.dta'))"
   ]
  },
  {
   "cell_type": "markdown",
   "id": "eba072c8-b1a8-480a-9551-f580a04e24c9",
   "metadata": {},
   "source": [
    "# Base de Empleo"
   ]
  },
  {
   "cell_type": "code",
   "execution_count": 4,
   "id": "46c682bd-5138-4813-a947-8fda0e123c31",
   "metadata": {},
   "outputs": [
    {
     "data": {
      "text/plain": [
       "(86806, 1459)"
      ]
     },
     "execution_count": 4,
     "metadata": {},
     "output_type": "execute_result"
    }
   ],
   "source": [
    "data = pandas.read_stata(os.path.join(ruta,\"2021\",\"enaho01a-2021-500.dta\"))\n",
    "data.shape"
   ]
  },
  {
   "cell_type": "code",
   "execution_count": 5,
   "id": "6e8089b7-ce99-42ce-93a4-6ddbc2875c02",
   "metadata": {},
   "outputs": [
    {
     "data": {
      "text/plain": [
       "secundaria completa                     21989\n",
       "secundaria incompleta                   15376\n",
       "primaria incompleta                     11499\n",
       "primaria completa                        9954\n",
       "superior no universitaria completa       6757\n",
       "superior universitaria completa          6381\n",
       "superior universitaria incompleta        5279\n",
       "sin nivel                                4626\n",
       "superior no universitaria incompleta     3586\n",
       "maestria/doctorado                       1182\n",
       "básica especial                            79\n",
       "inicial                                    58\n",
       "Name: p301a, dtype: int64"
      ]
     },
     "execution_count": 5,
     "metadata": {},
     "output_type": "execute_result"
    }
   ],
   "source": [
    "data['p301a'].value_counts()"
   ]
  },
  {
   "cell_type": "code",
   "execution_count": 6,
   "id": "2521dc44-f24c-46de-b859-65c512281b6f",
   "metadata": {},
   "outputs": [],
   "source": [
    "def variable_r6(frame, target,varx, subdata):\n",
    "    frame[target] = numpy.where(frame[varx]==\"ocupado\",subdata.sum(axis=1),0)\n",
    "    frame[target] = frame[target] /12\n",
    "    return frame\n",
    "\n",
    "def variable_rDpto(frame, target, varx):\n",
    "    frame[target] = frame[varx].str[0:2]\n",
    "    frame[target] = frame[target].replace({\"01\": \"Amazonas\",\"02\": \"Ancash\",\"03\": \"Apurimac\",\"04\":\"Arequipa\",\"05\": \"Ayacucho\",\n",
    "                                           \"06\": \"Cajamarca\",\"07\": \"Callao\",\"08\": \"Cusco\",\"09\": \"Huancavelica\",\"10\":\"Huanuco\",\n",
    "                                           \"11\": \"Ica\",\"12\":\"Junin\", \"13\": \"La Libertad\",\"14\": \"Lambayeque\",\"15\":\"Lima\",\n",
    "                                           \"16\": \"Loreto\",\"17\":\"Madre de Dios\",\"18\": \"Moquegua\",\"19\":\"Pasco\",\"20\":\"Piura\",\n",
    "                                           \"21\": \"Puno\",\"22\":\"San Martin\",\"23\":\"Tacna\",\"24\":\"Tumbes\",\"25\":\"Ucayali\"\n",
    "                                          })    \n",
    "    return frame\n",
    "\n",
    "def variable_rpersona(frame, target, var1, var2, var3, var4):\n",
    "    frame[target] = frame[var1]+frame[var2]+frame[var3]+frame[var4]\n",
    "    return frame\n",
    "\n",
    "def variable_redad(frame, target, varx ):\n",
    "    frame[target] = frame[varx]\n",
    "    return frame\n",
    "\n",
    "def variable_rmujer(frame, target, varx):\n",
    "    frame[target] = numpy.where(frame[varx]=='mujer', 1,0)\n",
    "    return frame\n",
    "\n",
    "def variable_r3(frame, target, varx, vary):\n",
    "    \n",
    "    frame[target] = frame[varx].replace({\"ocupado\":\"ocupado\", \n",
    "                                         \"no pea\": \"desempleo\", \n",
    "                                         \"desocupado abierto\":\"inactivo\", \n",
    "                                         \"desocupado oculto\":\"inactivo\"})\n",
    "    \n",
    "    frame[vary] = frame[target].replace({\"ocupado\":\"pea\", \n",
    "                                         \"desempleo\":\"pea\", \n",
    "                                         \"inactivo\":\"no pea\",\n",
    "                                         \"0\":\"no pea\"})\n",
    "    \n",
    "    return frame\n",
    "\n",
    "\n",
    "def variable_rneduca(frame, target, varx ):\n",
    "    frame[target] = frame[varx].replace({\"sin nivel\": \"inicial\",\n",
    "                                       \"básica especial\": \"inicial\", \n",
    "                                       \"inicial\": \"inicial\",\n",
    "                                       \"primaria completa\": \"primaria\", \n",
    "                                       \"primaria incompleta\": \"primaria\", \n",
    "                                       \"secundaria completa\": \"secundaria\", \n",
    "                                       \"secundaria incompleta\": \"secundaria\", \n",
    "                                       \"superior no universitaria completa\": \"tecnica\", \n",
    "                                       \"superior no universitaria incompleta\": \"tecnica\", \n",
    "                                       \"superior universitaria completa\": \"Univ.\", \n",
    "                                       \"superior universitaria incompleta\": \"Univ.\", \n",
    "                                       \"maestria/doctorado\": \"Univ.\"})\n",
    "    return frame\n"
   ]
  },
  {
   "cell_type": "code",
   "execution_count": 7,
   "id": "d6a638da-f323-4694-89ed-10c6e622fdcd",
   "metadata": {},
   "outputs": [],
   "source": [
    "# Variables de empleo\n",
    "df = data[['i524a1','d529t','i530a','d536','i538a1','d540t','i541a','d543','d544t']]\n",
    "base_empleo = variable_r6(data,\"r6\",\"ocu500\",df)\n",
    "\n",
    "# Variables demograficas\n",
    "base_empleo = variable_rDpto(data,\"rDpto\",\"ubigeo\")\n",
    "base_empleo = variable_rmujer(data, \"rmujer\",\"p207\")\n",
    "base_empleo = variable_redad(data, \"redad\",\"p208a\")\n",
    "base_empleo = variable_r3(data, \"r3\",\"ocu500\",\"rpea\")\n",
    "\n",
    "base_empleo = variable_rneduca(data, 'rneduca', \"p301a\")\n",
    "\n",
    "# Codigo de persona\n",
    "base_empleo = variable_rpersona(data, \"rpersona\", \"conglome\",\"vivienda\",\"hogar\",\"codperso\")\n"
   ]
  },
  {
   "cell_type": "code",
   "execution_count": 8,
   "id": "8db344ec-ff01-458d-aaa2-0ec89433277f",
   "metadata": {},
   "outputs": [
    {
     "data": {
      "text/plain": [
       "secundaria    37365\n",
       "primaria      21453\n",
       "Univ.         12842\n",
       "tecnica       10343\n",
       "inicial        4763\n",
       "Name: rneduca, dtype: int64"
      ]
     },
     "execution_count": 8,
     "metadata": {},
     "output_type": "execute_result"
    }
   ],
   "source": [
    "base_empleo['rneduca'].value_counts()\n",
    "#base_empleo.sample(4).transpose()"
   ]
  },
  {
   "cell_type": "code",
   "execution_count": 9,
   "id": "039f5b80-0b02-40f4-8525-23715d34ba26",
   "metadata": {},
   "outputs": [
    {
     "data": {
      "text/html": [
       "<div>\n",
       "<style scoped>\n",
       "    .dataframe tbody tr th:only-of-type {\n",
       "        vertical-align: middle;\n",
       "    }\n",
       "\n",
       "    .dataframe tbody tr th {\n",
       "        vertical-align: top;\n",
       "    }\n",
       "\n",
       "    .dataframe thead th {\n",
       "        text-align: right;\n",
       "    }\n",
       "</style>\n",
       "<table border=\"1\" class=\"dataframe\">\n",
       "  <thead>\n",
       "    <tr style=\"text-align: right;\">\n",
       "      <th></th>\n",
       "      <th>rpersona</th>\n",
       "      <th>r6</th>\n",
       "      <th>rDpto</th>\n",
       "      <th>redad</th>\n",
       "      <th>rmujer</th>\n",
       "      <th>rneduca</th>\n",
       "      <th>r3</th>\n",
       "    </tr>\n",
       "  </thead>\n",
       "  <tbody>\n",
       "    <tr>\n",
       "      <th>0</th>\n",
       "      <td>0050070031101</td>\n",
       "      <td>6433.593913</td>\n",
       "      <td>Amazonas</td>\n",
       "      <td>56</td>\n",
       "      <td>0</td>\n",
       "      <td>Univ.</td>\n",
       "      <td>ocupado</td>\n",
       "    </tr>\n",
       "    <tr>\n",
       "      <th>1</th>\n",
       "      <td>0050070121101</td>\n",
       "      <td>1062.165853</td>\n",
       "      <td>Amazonas</td>\n",
       "      <td>21</td>\n",
       "      <td>1</td>\n",
       "      <td>secundaria</td>\n",
       "      <td>ocupado</td>\n",
       "    </tr>\n",
       "    <tr>\n",
       "      <th>2</th>\n",
       "      <td>0050070221101</td>\n",
       "      <td>2224.665202</td>\n",
       "      <td>Amazonas</td>\n",
       "      <td>62</td>\n",
       "      <td>0</td>\n",
       "      <td>Univ.</td>\n",
       "      <td>ocupado</td>\n",
       "    </tr>\n",
       "    <tr>\n",
       "      <th>3</th>\n",
       "      <td>0050070221102</td>\n",
       "      <td>1619.210449</td>\n",
       "      <td>Amazonas</td>\n",
       "      <td>61</td>\n",
       "      <td>1</td>\n",
       "      <td>tecnica</td>\n",
       "      <td>ocupado</td>\n",
       "    </tr>\n",
       "  </tbody>\n",
       "</table>\n",
       "</div>"
      ],
      "text/plain": [
       "        rpersona           r6     rDpto  redad  rmujer     rneduca       r3\n",
       "0  0050070031101  6433.593913  Amazonas     56       0       Univ.  ocupado\n",
       "1  0050070121101  1062.165853  Amazonas     21       1  secundaria  ocupado\n",
       "2  0050070221101  2224.665202  Amazonas     62       0       Univ.  ocupado\n",
       "3  0050070221102  1619.210449  Amazonas     61       1     tecnica  ocupado"
      ]
     },
     "execution_count": 9,
     "metadata": {},
     "output_type": "execute_result"
    }
   ],
   "source": [
    "base_final_empleo = base_empleo[['rpersona','r6','rDpto','redad','rmujer','rneduca','r3']]\n",
    "base_final_empleo.head(4)"
   ]
  },
  {
   "cell_type": "markdown",
   "id": "469624ff-de63-48a2-bfc1-130000c5ffd4",
   "metadata": {},
   "source": [
    "# Exportar excel"
   ]
  },
  {
   "cell_type": "code",
   "execution_count": null,
   "id": "aed51054-8992-482a-8bf2-14519730ce67",
   "metadata": {},
   "outputs": [],
   "source": [
    "# Observamos al direccion actual\n",
    "os.chdir(output)\n",
    "os.getcwd()\n",
    "\n",
    "base_final_empleo.to_csv('BD_Empleo_2021.csv')\n",
    "base_final_empleo.to_excel('BD_Empleo_2021.xlsx')"
   ]
  },
  {
   "cell_type": "code",
   "execution_count": null,
   "id": "40b53fa9-c063-479e-8bd8-c2f2d570f07e",
   "metadata": {},
   "outputs": [],
   "source": []
  }
 ],
 "metadata": {
  "kernelspec": {
   "display_name": "python_last",
   "language": "python",
   "name": "python_last"
  },
  "language_info": {
   "codemirror_mode": {
    "name": "ipython",
    "version": 3
   },
   "file_extension": ".py",
   "mimetype": "text/x-python",
   "name": "python",
   "nbconvert_exporter": "python",
   "pygments_lexer": "ipython3",
   "version": "3.10.8"
  },
  "toc-autonumbering": true
 },
 "nbformat": 4,
 "nbformat_minor": 5
}
