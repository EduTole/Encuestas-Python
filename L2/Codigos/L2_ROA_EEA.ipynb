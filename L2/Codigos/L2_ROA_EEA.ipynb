{
 "cells": [
  {
   "cell_type": "markdown",
   "metadata": {
    "id": "OURNnNVRPYgo"
   },
   "source": [
    "# Carga de base de datos\n",
    " \n",
    " - Uso de libreria pandas\n",
    " - Base de datos de la EEA (Encuesta Economica Anual)\n",
    " - Construir el indicador por empresa de ROA\n",
    "\n",
    " El indicador es calculado como:\n",
    "\n",
    "**ROA = Beneficio Neto obtenido/ Activo total de una empresa**\n",
    "\n",
    "- Definicion: utilidad que recibe la empresa por cada sol(dolar) invertido en sus distintos bienes y de los cuales se espera que generen ganancias a futuro\n",
    "\n",
    "- ROA se entiende como el retorno que da la inversión que hace una empresa\n",
    "\n",
    "- El valor del calculo estara en decimal , asi que se multiplicara por 100 para tenerlo en porcentaje\n"
   ]
  },
  {
   "cell_type": "markdown",
   "metadata": {},
   "source": [
    "## Carga de Librerias"
   ]
  },
  {
   "cell_type": "code",
   "execution_count": 1,
   "metadata": {
    "colab": {
     "base_uri": "https://localhost:8080/"
    },
    "id": "MmX8ojc_Qf9g",
    "outputId": "02fefa0b-b4f9-4405-fb86-e419f1c115cd"
   },
   "outputs": [],
   "source": [
    "# Instalar la informacion de python \n",
    "#!pip install pyreadstat"
   ]
  },
  {
   "cell_type": "code",
   "execution_count": 2,
   "metadata": {
    "id": "uM_6mooFOtbh"
   },
   "outputs": [],
   "source": [
    "import pandas as pd\n",
    "import numpy as np\n",
    "import os\n",
    "import sys\n",
    "import pyreadstat"
   ]
  },
  {
   "cell_type": "markdown",
   "metadata": {
    "id": "R2ZDrw8tkZBF"
   },
   "source": [
    "## Base de Activos (Estados financieros)"
   ]
  },
  {
   "cell_type": "code",
   "execution_count": 3,
   "metadata": {},
   "outputs": [
    {
     "data": {
      "text/plain": [
       "'D:\\\\Dropbox\\\\BASES\\\\INEI-EEA\\\\DATA\\\\2018\\\\Download\\\\630-Modulo1570\\\\a2017_s11_fD2'"
      ]
     },
     "execution_count": 3,
     "metadata": {},
     "output_type": "execute_result"
    }
   ],
   "source": [
    "ruta = 'D:/Dropbox/BASES/INEI-EEA/DATA/2018/Download/630-Modulo1570/a2017_s11_fD2'\n",
    "os.chdir(ruta)\n",
    "os.getcwd()\n"
   ]
  },
  {
   "cell_type": "code",
   "execution_count": 4,
   "metadata": {
    "colab": {
     "base_uri": "https://localhost:8080/"
    },
    "id": "xBKB9DhePGGH",
    "outputId": "c65388f1-5e70-4612-a805-cc09aab0c693"
   },
   "outputs": [
    {
     "data": {
      "text/plain": [
       "(51362, 10)"
      ]
     },
     "execution_count": 4,
     "metadata": {},
     "output_type": "execute_result"
    }
   ],
   "source": [
    "data = pd.read_spss('a2017_s11_fD2_c02_1.sav')\n",
    "data.shape\n",
    "#/content/Data/a2019_s11_fD2_c00_1.sav"
   ]
  },
  {
   "cell_type": "code",
   "execution_count": 5,
   "metadata": {
    "colab": {
     "base_uri": "https://localhost:8080/",
     "height": 112
    },
    "id": "x36AveAMQmC-",
    "outputId": "7cda5c94-dc00-4049-a3d9-9235838d93d7"
   },
   "outputs": [
    {
     "data": {
      "text/html": [
       "<div>\n",
       "<style scoped>\n",
       "    .dataframe tbody tr th:only-of-type {\n",
       "        vertical-align: middle;\n",
       "    }\n",
       "\n",
       "    .dataframe tbody tr th {\n",
       "        vertical-align: top;\n",
       "    }\n",
       "\n",
       "    .dataframe thead th {\n",
       "        text-align: right;\n",
       "    }\n",
       "</style>\n",
       "<table border=\"1\" class=\"dataframe\">\n",
       "  <thead>\n",
       "    <tr style=\"text-align: right;\">\n",
       "      <th></th>\n",
       "      <th>IRUC</th>\n",
       "      <th>Nroestablec</th>\n",
       "      <th>CodSector</th>\n",
       "      <th>CodFormato</th>\n",
       "      <th>CodCapitulo</th>\n",
       "      <th>FlagEstablecimiento</th>\n",
       "      <th>Clave</th>\n",
       "      <th>P01</th>\n",
       "      <th>P02</th>\n",
       "      <th>FACTOR_EXP</th>\n",
       "    </tr>\n",
       "  </thead>\n",
       "  <tbody>\n",
       "    <tr>\n",
       "      <th>0</th>\n",
       "      <td>00000009996</td>\n",
       "      <td>000</td>\n",
       "      <td>11</td>\n",
       "      <td>D2</td>\n",
       "      <td>02</td>\n",
       "      <td>1</td>\n",
       "      <td>001</td>\n",
       "      <td>2653557.0</td>\n",
       "      <td>10082719.0</td>\n",
       "      <td>2.1666667</td>\n",
       "    </tr>\n",
       "    <tr>\n",
       "      <th>1</th>\n",
       "      <td>00000009996</td>\n",
       "      <td>000</td>\n",
       "      <td>11</td>\n",
       "      <td>D2</td>\n",
       "      <td>02</td>\n",
       "      <td>1</td>\n",
       "      <td>002</td>\n",
       "      <td>0.0</td>\n",
       "      <td>0.0</td>\n",
       "      <td>2.1666667</td>\n",
       "    </tr>\n",
       "  </tbody>\n",
       "</table>\n",
       "</div>"
      ],
      "text/plain": [
       "          IRUC Nroestablec CodSector CodFormato CodCapitulo  \\\n",
       "0  00000009996         000        11         D2          02   \n",
       "1  00000009996         000        11         D2          02   \n",
       "\n",
       "  FlagEstablecimiento Clave        P01         P02 FACTOR_EXP  \n",
       "0                   1   001  2653557.0  10082719.0  2.1666667  \n",
       "1                   1   002        0.0         0.0  2.1666667  "
      ]
     },
     "execution_count": 5,
     "metadata": {},
     "output_type": "execute_result"
    }
   ],
   "source": [
    "data.head(2)"
   ]
  },
  {
   "cell_type": "code",
   "execution_count": 6,
   "metadata": {
    "colab": {
     "base_uri": "https://localhost:8080/"
    },
    "id": "aaQQIwCOQ8Oe",
    "outputId": "d0c04961-c38e-4a6b-9629-e0e881b09e4b"
   },
   "outputs": [
    {
     "name": "stdout",
     "output_type": "stream",
     "text": [
      "<class 'pandas.core.frame.DataFrame'>\n",
      "RangeIndex: 51362 entries, 0 to 51361\n",
      "Data columns (total 10 columns):\n",
      " #   Column               Non-Null Count  Dtype  \n",
      "---  ------               --------------  -----  \n",
      " 0   IRUC                 51362 non-null  object \n",
      " 1   Nroestablec          51362 non-null  object \n",
      " 2   CodSector            51362 non-null  object \n",
      " 3   CodFormato           51362 non-null  object \n",
      " 4   CodCapitulo          51362 non-null  object \n",
      " 5   FlagEstablecimiento  51362 non-null  object \n",
      " 6   Clave                51362 non-null  object \n",
      " 7   P01                  51362 non-null  float64\n",
      " 8   P02                  51362 non-null  float64\n",
      " 9   FACTOR_EXP           51362 non-null  object \n",
      "dtypes: float64(2), object(8)\n",
      "memory usage: 3.9+ MB\n"
     ]
    }
   ],
   "source": [
    "# Tipo de variables\n",
    "data.info()"
   ]
  },
  {
   "cell_type": "code",
   "execution_count": 7,
   "metadata": {
    "colab": {
     "base_uri": "https://localhost:8080/",
     "height": 455
    },
    "id": "tx7NqsBYdXAd",
    "outputId": "1838fa7e-7569-4fcc-8771-ab5e4fc8c66d"
   },
   "outputs": [
    {
     "data": {
      "text/html": [
       "<div>\n",
       "<style scoped>\n",
       "    .dataframe tbody tr th:only-of-type {\n",
       "        vertical-align: middle;\n",
       "    }\n",
       "\n",
       "    .dataframe tbody tr th {\n",
       "        vertical-align: top;\n",
       "    }\n",
       "\n",
       "    .dataframe thead th {\n",
       "        text-align: right;\n",
       "    }\n",
       "</style>\n",
       "<table border=\"1\" class=\"dataframe\">\n",
       "  <thead>\n",
       "    <tr style=\"text-align: right;\">\n",
       "      <th></th>\n",
       "      <th>count</th>\n",
       "      <th>mean</th>\n",
       "      <th>std</th>\n",
       "      <th>min</th>\n",
       "      <th>25%</th>\n",
       "      <th>50%</th>\n",
       "      <th>75%</th>\n",
       "      <th>max</th>\n",
       "    </tr>\n",
       "    <tr>\n",
       "      <th>Clave</th>\n",
       "      <th></th>\n",
       "      <th></th>\n",
       "      <th></th>\n",
       "      <th></th>\n",
       "      <th></th>\n",
       "      <th></th>\n",
       "      <th></th>\n",
       "      <th></th>\n",
       "    </tr>\n",
       "  </thead>\n",
       "  <tbody>\n",
       "    <tr>\n",
       "      <th>001</th>\n",
       "      <td>842.0</td>\n",
       "      <td>5.222453e+06</td>\n",
       "      <td>2.303870e+07</td>\n",
       "      <td>0.0</td>\n",
       "      <td>306031.00</td>\n",
       "      <td>998470.0</td>\n",
       "      <td>3113109.50</td>\n",
       "      <td>4.128284e+08</td>\n",
       "    </tr>\n",
       "    <tr>\n",
       "      <th>002</th>\n",
       "      <td>842.0</td>\n",
       "      <td>2.461691e+05</td>\n",
       "      <td>2.982536e+06</td>\n",
       "      <td>0.0</td>\n",
       "      <td>0.00</td>\n",
       "      <td>0.0</td>\n",
       "      <td>0.00</td>\n",
       "      <td>7.505180e+07</td>\n",
       "    </tr>\n",
       "    <tr>\n",
       "      <th>003</th>\n",
       "      <td>842.0</td>\n",
       "      <td>1.930160e+07</td>\n",
       "      <td>4.153179e+07</td>\n",
       "      <td>0.0</td>\n",
       "      <td>2213156.00</td>\n",
       "      <td>5329554.0</td>\n",
       "      <td>16078721.50</td>\n",
       "      <td>5.459283e+08</td>\n",
       "    </tr>\n",
       "    <tr>\n",
       "      <th>004</th>\n",
       "      <td>842.0</td>\n",
       "      <td>5.190767e+05</td>\n",
       "      <td>2.135042e+06</td>\n",
       "      <td>-141.0</td>\n",
       "      <td>2113.25</td>\n",
       "      <td>42564.0</td>\n",
       "      <td>281402.25</td>\n",
       "      <td>4.243648e+07</td>\n",
       "    </tr>\n",
       "    <tr>\n",
       "      <th>005</th>\n",
       "      <td>842.0</td>\n",
       "      <td>5.129626e+06</td>\n",
       "      <td>2.197327e+07</td>\n",
       "      <td>0.0</td>\n",
       "      <td>70921.00</td>\n",
       "      <td>423897.0</td>\n",
       "      <td>2152754.25</td>\n",
       "      <td>3.947218e+08</td>\n",
       "    </tr>\n",
       "    <tr>\n",
       "      <th>...</th>\n",
       "      <td>...</td>\n",
       "      <td>...</td>\n",
       "      <td>...</td>\n",
       "      <td>...</td>\n",
       "      <td>...</td>\n",
       "      <td>...</td>\n",
       "      <td>...</td>\n",
       "      <td>...</td>\n",
       "    </tr>\n",
       "    <tr>\n",
       "      <th>057</th>\n",
       "      <td>842.0</td>\n",
       "      <td>2.509488e+07</td>\n",
       "      <td>1.212425e+08</td>\n",
       "      <td>-124488269.0</td>\n",
       "      <td>807209.00</td>\n",
       "      <td>3031028.0</td>\n",
       "      <td>13890516.75</td>\n",
       "      <td>2.300609e+09</td>\n",
       "    </tr>\n",
       "    <tr>\n",
       "      <th>058</th>\n",
       "      <td>842.0</td>\n",
       "      <td>1.984316e+07</td>\n",
       "      <td>9.752589e+07</td>\n",
       "      <td>-134320530.0</td>\n",
       "      <td>35117.50</td>\n",
       "      <td>1918173.5</td>\n",
       "      <td>9769397.50</td>\n",
       "      <td>1.834452e+09</td>\n",
       "    </tr>\n",
       "    <tr>\n",
       "      <th>059</th>\n",
       "      <td>842.0</td>\n",
       "      <td>5.251716e+06</td>\n",
       "      <td>2.712387e+07</td>\n",
       "      <td>-33675827.0</td>\n",
       "      <td>179857.75</td>\n",
       "      <td>857543.0</td>\n",
       "      <td>2965916.50</td>\n",
       "      <td>4.661577e+08</td>\n",
       "    </tr>\n",
       "    <tr>\n",
       "      <th>060</th>\n",
       "      <td>842.0</td>\n",
       "      <td>6.593409e+07</td>\n",
       "      <td>2.932213e+08</td>\n",
       "      <td>-38313031.0</td>\n",
       "      <td>5323666.25</td>\n",
       "      <td>12173514.5</td>\n",
       "      <td>44605449.50</td>\n",
       "      <td>6.171574e+09</td>\n",
       "    </tr>\n",
       "    <tr>\n",
       "      <th>061</th>\n",
       "      <td>842.0</td>\n",
       "      <td>1.280389e+08</td>\n",
       "      <td>4.858309e+08</td>\n",
       "      <td>588763.0</td>\n",
       "      <td>13141252.25</td>\n",
       "      <td>28785077.5</td>\n",
       "      <td>87513721.00</td>\n",
       "      <td>8.581819e+09</td>\n",
       "    </tr>\n",
       "  </tbody>\n",
       "</table>\n",
       "<p>61 rows × 8 columns</p>\n",
       "</div>"
      ],
      "text/plain": [
       "       count          mean           std          min          25%  \\\n",
       "Clave                                                                \n",
       "001    842.0  5.222453e+06  2.303870e+07          0.0    306031.00   \n",
       "002    842.0  2.461691e+05  2.982536e+06          0.0         0.00   \n",
       "003    842.0  1.930160e+07  4.153179e+07          0.0   2213156.00   \n",
       "004    842.0  5.190767e+05  2.135042e+06       -141.0      2113.25   \n",
       "005    842.0  5.129626e+06  2.197327e+07          0.0     70921.00   \n",
       "...      ...           ...           ...          ...          ...   \n",
       "057    842.0  2.509488e+07  1.212425e+08 -124488269.0    807209.00   \n",
       "058    842.0  1.984316e+07  9.752589e+07 -134320530.0     35117.50   \n",
       "059    842.0  5.251716e+06  2.712387e+07  -33675827.0    179857.75   \n",
       "060    842.0  6.593409e+07  2.932213e+08  -38313031.0   5323666.25   \n",
       "061    842.0  1.280389e+08  4.858309e+08     588763.0  13141252.25   \n",
       "\n",
       "              50%          75%           max  \n",
       "Clave                                         \n",
       "001      998470.0   3113109.50  4.128284e+08  \n",
       "002           0.0         0.00  7.505180e+07  \n",
       "003     5329554.0  16078721.50  5.459283e+08  \n",
       "004       42564.0    281402.25  4.243648e+07  \n",
       "005      423897.0   2152754.25  3.947218e+08  \n",
       "...           ...          ...           ...  \n",
       "057     3031028.0  13890516.75  2.300609e+09  \n",
       "058     1918173.5   9769397.50  1.834452e+09  \n",
       "059      857543.0   2965916.50  4.661577e+08  \n",
       "060    12173514.5  44605449.50  6.171574e+09  \n",
       "061    28785077.5  87513721.00  8.581819e+09  \n",
       "\n",
       "[61 rows x 8 columns]"
      ]
     },
     "execution_count": 7,
     "metadata": {},
     "output_type": "execute_result"
    }
   ],
   "source": [
    "data.groupby(['Clave'])['P01'].describe()"
   ]
  },
  {
   "cell_type": "code",
   "execution_count": 8,
   "metadata": {
    "colab": {
     "base_uri": "https://localhost:8080/"
    },
    "id": "lWLfp_OASjaf",
    "outputId": "31f8d845-f651-4889-dde0-031f3c120007"
   },
   "outputs": [
    {
     "data": {
      "text/plain": [
       "Clave\n",
       "001    842\n",
       "002    842\n",
       "003    842\n",
       "004    842\n",
       "005    842\n",
       "      ... \n",
       "057    842\n",
       "058    842\n",
       "059    842\n",
       "060    842\n",
       "061    842\n",
       "Length: 61, dtype: int64"
      ]
     },
     "execution_count": 8,
     "metadata": {},
     "output_type": "execute_result"
    }
   ],
   "source": [
    "#data[['CLAVE']]\n",
    "#tab = data.groupby(['CLAVE', 'dato1']).size()\n",
    "tab = data.groupby(['Clave']).size()\n",
    "tab"
   ]
  },
  {
   "cell_type": "code",
   "execution_count": 9,
   "metadata": {
    "colab": {
     "base_uri": "https://localhost:8080/"
    },
    "id": "_L69hkpkUo7G",
    "outputId": "213fd498-fedd-4eb9-a7fb-d6ca3db8b0c1"
   },
   "outputs": [
    {
     "data": {
      "text/plain": [
       "(1684, 10)"
      ]
     },
     "execution_count": 9,
     "metadata": {},
     "output_type": "execute_result"
    }
   ],
   "source": [
    "# Filtrando la base de datos\n",
    "# Total activo (A+B) 30 en el 2017\n",
    "# Resultado del Ejercicio 59 (engañoso)\n",
    "\n",
    "data_nueva = data[(data.Clave==\"030\") | (data.Clave==\"059\")]\n",
    "data_nueva.shape\n",
    "\n"
   ]
  },
  {
   "cell_type": "code",
   "execution_count": 10,
   "metadata": {
    "colab": {
     "base_uri": "https://localhost:8080/",
     "height": 175
    },
    "id": "2-3bpm8bXepO",
    "outputId": "eb45729e-3b30-4a3f-d575-5c48c1da37c4"
   },
   "outputs": [
    {
     "data": {
      "text/html": [
       "<div>\n",
       "<style scoped>\n",
       "    .dataframe tbody tr th:only-of-type {\n",
       "        vertical-align: middle;\n",
       "    }\n",
       "\n",
       "    .dataframe tbody tr th {\n",
       "        vertical-align: top;\n",
       "    }\n",
       "\n",
       "    .dataframe thead th {\n",
       "        text-align: right;\n",
       "    }\n",
       "</style>\n",
       "<table border=\"1\" class=\"dataframe\">\n",
       "  <thead>\n",
       "    <tr style=\"text-align: right;\">\n",
       "      <th></th>\n",
       "      <th>IRUC</th>\n",
       "      <th>Nroestablec</th>\n",
       "      <th>CodSector</th>\n",
       "      <th>CodFormato</th>\n",
       "      <th>CodCapitulo</th>\n",
       "      <th>FlagEstablecimiento</th>\n",
       "      <th>Clave</th>\n",
       "      <th>P01</th>\n",
       "      <th>P02</th>\n",
       "      <th>FACTOR_EXP</th>\n",
       "    </tr>\n",
       "  </thead>\n",
       "  <tbody>\n",
       "    <tr>\n",
       "      <th>11</th>\n",
       "      <td>00000009996</td>\n",
       "      <td>000</td>\n",
       "      <td>11</td>\n",
       "      <td>D2</td>\n",
       "      <td>02</td>\n",
       "      <td>1</td>\n",
       "      <td>059</td>\n",
       "      <td>1014691.0</td>\n",
       "      <td>3142945.0</td>\n",
       "      <td>2.1666667</td>\n",
       "    </tr>\n",
       "    <tr>\n",
       "      <th>42</th>\n",
       "      <td>00000009996</td>\n",
       "      <td>000</td>\n",
       "      <td>11</td>\n",
       "      <td>D2</td>\n",
       "      <td>02</td>\n",
       "      <td>1</td>\n",
       "      <td>030</td>\n",
       "      <td>37071421.0</td>\n",
       "      <td>37802013.0</td>\n",
       "      <td>2.1666667</td>\n",
       "    </tr>\n",
       "    <tr>\n",
       "      <th>83</th>\n",
       "      <td>00000013896</td>\n",
       "      <td>000</td>\n",
       "      <td>11</td>\n",
       "      <td>D2</td>\n",
       "      <td>02</td>\n",
       "      <td>1</td>\n",
       "      <td>059</td>\n",
       "      <td>-4309016.0</td>\n",
       "      <td>-4371133.0</td>\n",
       "      <td>2.1666667</td>\n",
       "    </tr>\n",
       "    <tr>\n",
       "      <th>114</th>\n",
       "      <td>00000013896</td>\n",
       "      <td>000</td>\n",
       "      <td>11</td>\n",
       "      <td>D2</td>\n",
       "      <td>02</td>\n",
       "      <td>1</td>\n",
       "      <td>030</td>\n",
       "      <td>19322966.0</td>\n",
       "      <td>39218937.0</td>\n",
       "      <td>2.1666667</td>\n",
       "    </tr>\n",
       "  </tbody>\n",
       "</table>\n",
       "</div>"
      ],
      "text/plain": [
       "            IRUC Nroestablec CodSector CodFormato CodCapitulo  \\\n",
       "11   00000009996         000        11         D2          02   \n",
       "42   00000009996         000        11         D2          02   \n",
       "83   00000013896         000        11         D2          02   \n",
       "114  00000013896         000        11         D2          02   \n",
       "\n",
       "    FlagEstablecimiento Clave         P01         P02 FACTOR_EXP  \n",
       "11                    1   059   1014691.0   3142945.0  2.1666667  \n",
       "42                    1   030  37071421.0  37802013.0  2.1666667  \n",
       "83                    1   059  -4309016.0  -4371133.0  2.1666667  \n",
       "114                   1   030  19322966.0  39218937.0  2.1666667  "
      ]
     },
     "execution_count": 10,
     "metadata": {},
     "output_type": "execute_result"
    }
   ],
   "source": [
    "data_nueva.head(4)"
   ]
  },
  {
   "cell_type": "code",
   "execution_count": 11,
   "metadata": {
    "colab": {
     "base_uri": "https://localhost:8080/"
    },
    "id": "7fthCcRdYiV1",
    "outputId": "35ab36e9-3de9-4e0b-d21e-e2ae4a4add86"
   },
   "outputs": [
    {
     "data": {
      "text/plain": [
       "(842, 10)"
      ]
     },
     "execution_count": 11,
     "metadata": {},
     "output_type": "execute_result"
    }
   ],
   "source": [
    "# Pasar de un formato long a wide: comando pivot\n",
    "#data_ef = data_nueva.pivot(index=('IRUC','NroEstablec','CodSector'), columns='CLAVE', values='dato1' )\n",
    "data_ef = data_nueva[(data_nueva.Clave=='030')]\n",
    "data_ef.shape"
   ]
  },
  {
   "cell_type": "code",
   "execution_count": 12,
   "metadata": {
    "colab": {
     "base_uri": "https://localhost:8080/",
     "height": 175
    },
    "id": "IXqAMOwJZWtF",
    "outputId": "493cb193-56f1-48b7-f594-b7bebf4f1810"
   },
   "outputs": [
    {
     "data": {
      "text/html": [
       "<div>\n",
       "<style scoped>\n",
       "    .dataframe tbody tr th:only-of-type {\n",
       "        vertical-align: middle;\n",
       "    }\n",
       "\n",
       "    .dataframe tbody tr th {\n",
       "        vertical-align: top;\n",
       "    }\n",
       "\n",
       "    .dataframe thead th {\n",
       "        text-align: right;\n",
       "    }\n",
       "</style>\n",
       "<table border=\"1\" class=\"dataframe\">\n",
       "  <thead>\n",
       "    <tr style=\"text-align: right;\">\n",
       "      <th></th>\n",
       "      <th>IRUC</th>\n",
       "      <th>Nroestablec</th>\n",
       "      <th>CodSector</th>\n",
       "      <th>CodFormato</th>\n",
       "      <th>CodCapitulo</th>\n",
       "      <th>FlagEstablecimiento</th>\n",
       "      <th>Clave</th>\n",
       "      <th>P01</th>\n",
       "      <th>P02</th>\n",
       "      <th>FACTOR_EXP</th>\n",
       "    </tr>\n",
       "  </thead>\n",
       "  <tbody>\n",
       "    <tr>\n",
       "      <th>42</th>\n",
       "      <td>00000009996</td>\n",
       "      <td>000</td>\n",
       "      <td>11</td>\n",
       "      <td>D2</td>\n",
       "      <td>02</td>\n",
       "      <td>1</td>\n",
       "      <td>030</td>\n",
       "      <td>37071421.0</td>\n",
       "      <td>37802013.0</td>\n",
       "      <td>2.1666667</td>\n",
       "    </tr>\n",
       "    <tr>\n",
       "      <th>114</th>\n",
       "      <td>00000013896</td>\n",
       "      <td>000</td>\n",
       "      <td>11</td>\n",
       "      <td>D2</td>\n",
       "      <td>02</td>\n",
       "      <td>1</td>\n",
       "      <td>030</td>\n",
       "      <td>19322966.0</td>\n",
       "      <td>39218937.0</td>\n",
       "      <td>2.1666667</td>\n",
       "    </tr>\n",
       "    <tr>\n",
       "      <th>186</th>\n",
       "      <td>00000010325</td>\n",
       "      <td>000</td>\n",
       "      <td>11</td>\n",
       "      <td>D2</td>\n",
       "      <td>02</td>\n",
       "      <td>1</td>\n",
       "      <td>030</td>\n",
       "      <td>91801660.0</td>\n",
       "      <td>82226939.0</td>\n",
       "      <td>2.1666667</td>\n",
       "    </tr>\n",
       "    <tr>\n",
       "      <th>258</th>\n",
       "      <td>00000011609</td>\n",
       "      <td>000</td>\n",
       "      <td>11</td>\n",
       "      <td>D2</td>\n",
       "      <td>02</td>\n",
       "      <td>1</td>\n",
       "      <td>030</td>\n",
       "      <td>17440446.0</td>\n",
       "      <td>15445112.0</td>\n",
       "      <td>2.1666667</td>\n",
       "    </tr>\n",
       "  </tbody>\n",
       "</table>\n",
       "</div>"
      ],
      "text/plain": [
       "            IRUC Nroestablec CodSector CodFormato CodCapitulo  \\\n",
       "42   00000009996         000        11         D2          02   \n",
       "114  00000013896         000        11         D2          02   \n",
       "186  00000010325         000        11         D2          02   \n",
       "258  00000011609         000        11         D2          02   \n",
       "\n",
       "    FlagEstablecimiento Clave         P01         P02 FACTOR_EXP  \n",
       "42                    1   030  37071421.0  37802013.0  2.1666667  \n",
       "114                   1   030  19322966.0  39218937.0  2.1666667  \n",
       "186                   1   030  91801660.0  82226939.0  2.1666667  \n",
       "258                   1   030  17440446.0  15445112.0  2.1666667  "
      ]
     },
     "execution_count": 12,
     "metadata": {},
     "output_type": "execute_result"
    }
   ],
   "source": [
    "data_ef.head(4)"
   ]
  },
  {
   "cell_type": "code",
   "execution_count": 13,
   "metadata": {
    "colab": {
     "base_uri": "https://localhost:8080/",
     "height": 528
    },
    "id": "bZsfiKOQajH9",
    "outputId": "d413e46d-1507-485e-907b-48fe07521522"
   },
   "outputs": [
    {
     "name": "stderr",
     "output_type": "stream",
     "text": [
      "C:\\Users\\edinson\\AppData\\Local\\Temp\\ipykernel_5636\\3582557537.py:1: SettingWithCopyWarning: \n",
      "A value is trying to be set on a copy of a slice from a DataFrame.\n",
      "Try using .loc[row_indexer,col_indexer] = value instead\n",
      "\n",
      "See the caveats in the documentation: https://pandas.pydata.org/pandas-docs/stable/user_guide/indexing.html#returning-a-view-versus-a-copy\n",
      "  data_ef['Activos'] = data_ef['P01']\n"
     ]
    },
    {
     "data": {
      "text/html": [
       "<div>\n",
       "<style scoped>\n",
       "    .dataframe tbody tr th:only-of-type {\n",
       "        vertical-align: middle;\n",
       "    }\n",
       "\n",
       "    .dataframe tbody tr th {\n",
       "        vertical-align: top;\n",
       "    }\n",
       "\n",
       "    .dataframe thead th {\n",
       "        text-align: right;\n",
       "    }\n",
       "</style>\n",
       "<table border=\"1\" class=\"dataframe\">\n",
       "  <thead>\n",
       "    <tr style=\"text-align: right;\">\n",
       "      <th></th>\n",
       "      <th>IRUC</th>\n",
       "      <th>CodSector</th>\n",
       "      <th>Activos</th>\n",
       "    </tr>\n",
       "  </thead>\n",
       "  <tbody>\n",
       "    <tr>\n",
       "      <th>40552</th>\n",
       "      <td>00000048544</td>\n",
       "      <td>11</td>\n",
       "      <td>0.588763</td>\n",
       "    </tr>\n",
       "    <tr>\n",
       "      <th>26474</th>\n",
       "      <td>00000110724</td>\n",
       "      <td>11</td>\n",
       "      <td>1.482189</td>\n",
       "    </tr>\n",
       "    <tr>\n",
       "      <th>37231</th>\n",
       "      <td>00000145797</td>\n",
       "      <td>11</td>\n",
       "      <td>1.699023</td>\n",
       "    </tr>\n",
       "    <tr>\n",
       "      <th>44038</th>\n",
       "      <td>00000145798</td>\n",
       "      <td>11</td>\n",
       "      <td>2.216882</td>\n",
       "    </tr>\n",
       "    <tr>\n",
       "      <th>44380</th>\n",
       "      <td>00000011045</td>\n",
       "      <td>11</td>\n",
       "      <td>2.315611</td>\n",
       "    </tr>\n",
       "    <tr>\n",
       "      <th>...</th>\n",
       "      <td>...</td>\n",
       "      <td>...</td>\n",
       "      <td>...</td>\n",
       "    </tr>\n",
       "    <tr>\n",
       "      <th>12876</th>\n",
       "      <td>00000017765</td>\n",
       "      <td>11</td>\n",
       "      <td>3102.797426</td>\n",
       "    </tr>\n",
       "    <tr>\n",
       "      <th>26844</th>\n",
       "      <td>00000016567</td>\n",
       "      <td>11</td>\n",
       "      <td>3198.962517</td>\n",
       "    </tr>\n",
       "    <tr>\n",
       "      <th>16831</th>\n",
       "      <td>00000011050</td>\n",
       "      <td>11</td>\n",
       "      <td>3329.293531</td>\n",
       "    </tr>\n",
       "    <tr>\n",
       "      <th>12815</th>\n",
       "      <td>00000015538</td>\n",
       "      <td>11</td>\n",
       "      <td>7811.421454</td>\n",
       "    </tr>\n",
       "    <tr>\n",
       "      <th>12084</th>\n",
       "      <td>00000010223</td>\n",
       "      <td>11</td>\n",
       "      <td>8581.819213</td>\n",
       "    </tr>\n",
       "  </tbody>\n",
       "</table>\n",
       "<p>842 rows × 3 columns</p>\n",
       "</div>"
      ],
      "text/plain": [
       "              IRUC CodSector      Activos\n",
       "40552  00000048544        11     0.588763\n",
       "26474  00000110724        11     1.482189\n",
       "37231  00000145797        11     1.699023\n",
       "44038  00000145798        11     2.216882\n",
       "44380  00000011045        11     2.315611\n",
       "...            ...       ...          ...\n",
       "12876  00000017765        11  3102.797426\n",
       "26844  00000016567        11  3198.962517\n",
       "16831  00000011050        11  3329.293531\n",
       "12815  00000015538        11  7811.421454\n",
       "12084  00000010223        11  8581.819213\n",
       "\n",
       "[842 rows x 3 columns]"
      ]
     },
     "execution_count": 13,
     "metadata": {},
     "output_type": "execute_result"
    }
   ],
   "source": [
    "data_ef['Activos'] = data_ef['P01']\n",
    "data_ef = data_ef[['IRUC','CodSector','Activos']]\n",
    "data_ef['Activos'] = data_ef['Activos'] / 1000000\n",
    "data_ef.sort_values('Activos')"
   ]
  },
  {
   "cell_type": "code",
   "execution_count": 14,
   "metadata": {
    "colab": {
     "base_uri": "https://localhost:8080/"
    },
    "id": "C51yDclBfPQd",
    "outputId": "a8cfd52c-cb0a-42b6-a7e5-b99671c9242a"
   },
   "outputs": [
    {
     "name": "stdout",
     "output_type": "stream",
     "text": [
      "<class 'pandas.core.frame.DataFrame'>\n",
      "Int64Index: 842 entries, 42 to 51343\n",
      "Data columns (total 3 columns):\n",
      " #   Column     Non-Null Count  Dtype  \n",
      "---  ------     --------------  -----  \n",
      " 0   IRUC       842 non-null    object \n",
      " 1   CodSector  842 non-null    object \n",
      " 2   Activos    842 non-null    float64\n",
      "dtypes: float64(1), object(2)\n",
      "memory usage: 26.3+ KB\n"
     ]
    }
   ],
   "source": [
    "data_ef.info()"
   ]
  },
  {
   "cell_type": "code",
   "execution_count": 15,
   "metadata": {
    "colab": {
     "base_uri": "https://localhost:8080/",
     "height": 112
    },
    "id": "JMzNKHCVcYo9",
    "outputId": "548e4306-e441-4acc-d6d9-2a8557087c80"
   },
   "outputs": [
    {
     "data": {
      "text/html": [
       "<div>\n",
       "<style scoped>\n",
       "    .dataframe tbody tr th:only-of-type {\n",
       "        vertical-align: middle;\n",
       "    }\n",
       "\n",
       "    .dataframe tbody tr th {\n",
       "        vertical-align: top;\n",
       "    }\n",
       "\n",
       "    .dataframe thead th {\n",
       "        text-align: right;\n",
       "    }\n",
       "</style>\n",
       "<table border=\"1\" class=\"dataframe\">\n",
       "  <thead>\n",
       "    <tr style=\"text-align: right;\">\n",
       "      <th></th>\n",
       "      <th>count</th>\n",
       "      <th>mean</th>\n",
       "      <th>std</th>\n",
       "      <th>min</th>\n",
       "      <th>25%</th>\n",
       "      <th>50%</th>\n",
       "      <th>75%</th>\n",
       "      <th>max</th>\n",
       "    </tr>\n",
       "    <tr>\n",
       "      <th>CodSector</th>\n",
       "      <th></th>\n",
       "      <th></th>\n",
       "      <th></th>\n",
       "      <th></th>\n",
       "      <th></th>\n",
       "      <th></th>\n",
       "      <th></th>\n",
       "      <th></th>\n",
       "    </tr>\n",
       "  </thead>\n",
       "  <tbody>\n",
       "    <tr>\n",
       "      <th>11</th>\n",
       "      <td>842.0</td>\n",
       "      <td>128.038916</td>\n",
       "      <td>485.830901</td>\n",
       "      <td>0.588763</td>\n",
       "      <td>13.141252</td>\n",
       "      <td>28.785077</td>\n",
       "      <td>87.513721</td>\n",
       "      <td>8581.819213</td>\n",
       "    </tr>\n",
       "  </tbody>\n",
       "</table>\n",
       "</div>"
      ],
      "text/plain": [
       "           count        mean         std       min        25%        50%  \\\n",
       "CodSector                                                                  \n",
       "11         842.0  128.038916  485.830901  0.588763  13.141252  28.785077   \n",
       "\n",
       "                 75%          max  \n",
       "CodSector                          \n",
       "11         87.513721  8581.819213  "
      ]
     },
     "execution_count": 15,
     "metadata": {},
     "output_type": "execute_result"
    }
   ],
   "source": [
    "data_ef.groupby(['CodSector'])['Activos'].describe()"
   ]
  },
  {
   "cell_type": "markdown",
   "metadata": {
    "id": "cXLl8q67k5I1"
   },
   "source": [
    "## Base de utilidad (Estado de Resultados)"
   ]
  },
  {
   "cell_type": "code",
   "execution_count": 16,
   "metadata": {
    "colab": {
     "base_uri": "https://localhost:8080/"
    },
    "id": "4RAlidcsiShE",
    "outputId": "1c56c6ce-8a7e-4df4-fea8-d22696cd9f9b"
   },
   "outputs": [
    {
     "name": "stdout",
     "output_type": "stream",
     "text": [
      "<class 'pandas.core.frame.DataFrame'>\n",
      "RangeIndex: 51362 entries, 0 to 51361\n",
      "Data columns (total 9 columns):\n",
      " #   Column               Non-Null Count  Dtype  \n",
      "---  ------               --------------  -----  \n",
      " 0   IRUC                 51362 non-null  object \n",
      " 1   Nroestablec          51362 non-null  object \n",
      " 2   CodSector            51362 non-null  object \n",
      " 3   CodFormato           51362 non-null  object \n",
      " 4   CodCapitulo          51362 non-null  object \n",
      " 5   FlagEstablecimiento  51362 non-null  object \n",
      " 6   Clave                51362 non-null  object \n",
      " 7   P01                  51362 non-null  float64\n",
      " 8   FACTOR_EXP           51362 non-null  object \n",
      "dtypes: float64(1), object(8)\n",
      "memory usage: 3.5+ MB\n"
     ]
    },
    {
     "data": {
      "text/html": [
       "<div>\n",
       "<style scoped>\n",
       "    .dataframe tbody tr th:only-of-type {\n",
       "        vertical-align: middle;\n",
       "    }\n",
       "\n",
       "    .dataframe tbody tr th {\n",
       "        vertical-align: top;\n",
       "    }\n",
       "\n",
       "    .dataframe thead th {\n",
       "        text-align: right;\n",
       "    }\n",
       "</style>\n",
       "<table border=\"1\" class=\"dataframe\">\n",
       "  <thead>\n",
       "    <tr style=\"text-align: right;\">\n",
       "      <th></th>\n",
       "      <th>IRUC</th>\n",
       "      <th>Nroestablec</th>\n",
       "      <th>CodSector</th>\n",
       "      <th>CodFormato</th>\n",
       "      <th>CodCapitulo</th>\n",
       "      <th>FlagEstablecimiento</th>\n",
       "      <th>Clave</th>\n",
       "      <th>P01</th>\n",
       "      <th>FACTOR_EXP</th>\n",
       "    </tr>\n",
       "  </thead>\n",
       "  <tbody>\n",
       "    <tr>\n",
       "      <th>0</th>\n",
       "      <td>00000016131</td>\n",
       "      <td>000</td>\n",
       "      <td>11</td>\n",
       "      <td>D2</td>\n",
       "      <td>03</td>\n",
       "      <td>1</td>\n",
       "      <td>001</td>\n",
       "      <td>0.0</td>\n",
       "      <td>1.1343284</td>\n",
       "    </tr>\n",
       "    <tr>\n",
       "      <th>1</th>\n",
       "      <td>00000016131</td>\n",
       "      <td>000</td>\n",
       "      <td>11</td>\n",
       "      <td>D2</td>\n",
       "      <td>03</td>\n",
       "      <td>1</td>\n",
       "      <td>002</td>\n",
       "      <td>0.0</td>\n",
       "      <td>1.1343284</td>\n",
       "    </tr>\n",
       "    <tr>\n",
       "      <th>2</th>\n",
       "      <td>00000016131</td>\n",
       "      <td>000</td>\n",
       "      <td>11</td>\n",
       "      <td>D2</td>\n",
       "      <td>03</td>\n",
       "      <td>1</td>\n",
       "      <td>003</td>\n",
       "      <td>0.0</td>\n",
       "      <td>1.1343284</td>\n",
       "    </tr>\n",
       "    <tr>\n",
       "      <th>3</th>\n",
       "      <td>00000016131</td>\n",
       "      <td>000</td>\n",
       "      <td>11</td>\n",
       "      <td>D2</td>\n",
       "      <td>03</td>\n",
       "      <td>1</td>\n",
       "      <td>004</td>\n",
       "      <td>0.0</td>\n",
       "      <td>1.1343284</td>\n",
       "    </tr>\n",
       "    <tr>\n",
       "      <th>4</th>\n",
       "      <td>00000016131</td>\n",
       "      <td>000</td>\n",
       "      <td>11</td>\n",
       "      <td>D2</td>\n",
       "      <td>03</td>\n",
       "      <td>1</td>\n",
       "      <td>005</td>\n",
       "      <td>197193646.0</td>\n",
       "      <td>1.1343284</td>\n",
       "    </tr>\n",
       "  </tbody>\n",
       "</table>\n",
       "</div>"
      ],
      "text/plain": [
       "          IRUC Nroestablec CodSector CodFormato CodCapitulo  \\\n",
       "0  00000016131         000        11         D2          03   \n",
       "1  00000016131         000        11         D2          03   \n",
       "2  00000016131         000        11         D2          03   \n",
       "3  00000016131         000        11         D2          03   \n",
       "4  00000016131         000        11         D2          03   \n",
       "\n",
       "  FlagEstablecimiento Clave          P01 FACTOR_EXP  \n",
       "0                   1   001          0.0  1.1343284  \n",
       "1                   1   002          0.0  1.1343284  \n",
       "2                   1   003          0.0  1.1343284  \n",
       "3                   1   004          0.0  1.1343284  \n",
       "4                   1   005  197193646.0  1.1343284  "
      ]
     },
     "execution_count": 16,
     "metadata": {},
     "output_type": "execute_result"
    }
   ],
   "source": [
    "base = pd.read_spss('a2017_s11_fD2_c03_1.sav')\n",
    "base.info()\n",
    "base.head()"
   ]
  },
  {
   "cell_type": "code",
   "execution_count": 17,
   "metadata": {
    "colab": {
     "base_uri": "https://localhost:8080/",
     "height": 528
    },
    "id": "EccuFwvTiikU",
    "outputId": "3d810eea-c076-419c-ecc2-36bccd79aab6"
   },
   "outputs": [
    {
     "name": "stderr",
     "output_type": "stream",
     "text": [
      "C:\\Users\\edinson\\AppData\\Local\\Temp\\ipykernel_5636\\2080168219.py:2: SettingWithCopyWarning: \n",
      "A value is trying to be set on a copy of a slice from a DataFrame.\n",
      "Try using .loc[row_indexer,col_indexer] = value instead\n",
      "\n",
      "See the caveats in the documentation: https://pandas.pydata.org/pandas-docs/stable/user_guide/indexing.html#returning-a-view-versus-a-copy\n",
      "  base_er['Utility'] = base_er['P01']\n",
      "C:\\Users\\edinson\\AppData\\Local\\Temp\\ipykernel_5636\\2080168219.py:3: SettingWithCopyWarning: \n",
      "A value is trying to be set on a copy of a slice from a DataFrame.\n",
      "Try using .loc[row_indexer,col_indexer] = value instead\n",
      "\n",
      "See the caveats in the documentation: https://pandas.pydata.org/pandas-docs/stable/user_guide/indexing.html#returning-a-view-versus-a-copy\n",
      "  base_er['Utility'] = base_er['Utility'] / 1000000\n"
     ]
    },
    {
     "data": {
      "text/html": [
       "<div>\n",
       "<style scoped>\n",
       "    .dataframe tbody tr th:only-of-type {\n",
       "        vertical-align: middle;\n",
       "    }\n",
       "\n",
       "    .dataframe tbody tr th {\n",
       "        vertical-align: top;\n",
       "    }\n",
       "\n",
       "    .dataframe thead th {\n",
       "        text-align: right;\n",
       "    }\n",
       "</style>\n",
       "<table border=\"1\" class=\"dataframe\">\n",
       "  <thead>\n",
       "    <tr style=\"text-align: right;\">\n",
       "      <th></th>\n",
       "      <th>IRUC</th>\n",
       "      <th>CodSector</th>\n",
       "      <th>Clave</th>\n",
       "      <th>Utility</th>\n",
       "    </tr>\n",
       "  </thead>\n",
       "  <tbody>\n",
       "    <tr>\n",
       "      <th>6</th>\n",
       "      <td>00000016131</td>\n",
       "      <td>11</td>\n",
       "      <td>061</td>\n",
       "      <td>7.581764</td>\n",
       "    </tr>\n",
       "    <tr>\n",
       "      <th>67</th>\n",
       "      <td>00000030417</td>\n",
       "      <td>11</td>\n",
       "      <td>061</td>\n",
       "      <td>1.091191</td>\n",
       "    </tr>\n",
       "    <tr>\n",
       "      <th>88</th>\n",
       "      <td>00000009960</td>\n",
       "      <td>11</td>\n",
       "      <td>061</td>\n",
       "      <td>-5.398127</td>\n",
       "    </tr>\n",
       "    <tr>\n",
       "      <th>148</th>\n",
       "      <td>00000010524</td>\n",
       "      <td>11</td>\n",
       "      <td>061</td>\n",
       "      <td>0.674295</td>\n",
       "    </tr>\n",
       "    <tr>\n",
       "      <th>168</th>\n",
       "      <td>00000124984</td>\n",
       "      <td>11</td>\n",
       "      <td>061</td>\n",
       "      <td>0.290803</td>\n",
       "    </tr>\n",
       "    <tr>\n",
       "      <th>...</th>\n",
       "      <td>...</td>\n",
       "      <td>...</td>\n",
       "      <td>...</td>\n",
       "      <td>...</td>\n",
       "    </tr>\n",
       "    <tr>\n",
       "      <th>51063</th>\n",
       "      <td>00000113173</td>\n",
       "      <td>11</td>\n",
       "      <td>061</td>\n",
       "      <td>0.460107</td>\n",
       "    </tr>\n",
       "    <tr>\n",
       "      <th>51124</th>\n",
       "      <td>00000029153</td>\n",
       "      <td>11</td>\n",
       "      <td>061</td>\n",
       "      <td>1.606037</td>\n",
       "    </tr>\n",
       "    <tr>\n",
       "      <th>51185</th>\n",
       "      <td>00000016406</td>\n",
       "      <td>11</td>\n",
       "      <td>061</td>\n",
       "      <td>0.502365</td>\n",
       "    </tr>\n",
       "    <tr>\n",
       "      <th>51246</th>\n",
       "      <td>00000120743</td>\n",
       "      <td>11</td>\n",
       "      <td>061</td>\n",
       "      <td>1.264818</td>\n",
       "    </tr>\n",
       "    <tr>\n",
       "      <th>51304</th>\n",
       "      <td>00000033560</td>\n",
       "      <td>11</td>\n",
       "      <td>061</td>\n",
       "      <td>0.405350</td>\n",
       "    </tr>\n",
       "  </tbody>\n",
       "</table>\n",
       "<p>842 rows × 4 columns</p>\n",
       "</div>"
      ],
      "text/plain": [
       "              IRUC CodSector Clave   Utility\n",
       "6      00000016131        11   061  7.581764\n",
       "67     00000030417        11   061  1.091191\n",
       "88     00000009960        11   061 -5.398127\n",
       "148    00000010524        11   061  0.674295\n",
       "168    00000124984        11   061  0.290803\n",
       "...            ...       ...   ...       ...\n",
       "51063  00000113173        11   061  0.460107\n",
       "51124  00000029153        11   061  1.606037\n",
       "51185  00000016406        11   061  0.502365\n",
       "51246  00000120743        11   061  1.264818\n",
       "51304  00000033560        11   061  0.405350\n",
       "\n",
       "[842 rows x 4 columns]"
      ]
     },
     "execution_count": 17,
     "metadata": {},
     "output_type": "execute_result"
    }
   ],
   "source": [
    "base_er = base[(base.Clave =='061' )]\n",
    "base_er['Utility'] = base_er['P01']\n",
    "base_er['Utility'] = base_er['Utility'] / 1000000\n",
    "base_er = base_er[['IRUC','CodSector','Clave','Utility']]\n",
    "base_er"
   ]
  },
  {
   "cell_type": "code",
   "execution_count": 18,
   "metadata": {
    "colab": {
     "base_uri": "https://localhost:8080/"
    },
    "id": "URp3AVP1jgLV",
    "outputId": "bbdcf1ee-ee94-4ba2-c9d0-ce5f09012532"
   },
   "outputs": [
    {
     "name": "stdout",
     "output_type": "stream",
     "text": [
      "              IRUC CodSector Clave   Utility\n",
      "6      00000016131        11   061  7.581764\n",
      "67     00000030417        11   061  1.091191\n",
      "88     00000009960        11   061 -5.398127\n",
      "148    00000010524        11   061  0.674295\n",
      "168    00000124984        11   061  0.290803\n",
      "...            ...       ...   ...       ...\n",
      "51063  00000113173        11   061  0.460107\n",
      "51124  00000029153        11   061  1.606037\n",
      "51185  00000016406        11   061  0.502365\n",
      "51246  00000120743        11   061  1.264818\n",
      "51304  00000033560        11   061  0.405350\n",
      "\n",
      "[842 rows x 4 columns]\n"
     ]
    }
   ],
   "source": [
    "print(base_er)"
   ]
  },
  {
   "cell_type": "code",
   "execution_count": 19,
   "metadata": {
    "colab": {
     "base_uri": "https://localhost:8080/",
     "height": 423
    },
    "id": "Foc4DztajjZY",
    "outputId": "b0f059f6-59d3-466a-b999-0bf3e85fce89"
   },
   "outputs": [
    {
     "data": {
      "text/html": [
       "<div>\n",
       "<style scoped>\n",
       "    .dataframe tbody tr th:only-of-type {\n",
       "        vertical-align: middle;\n",
       "    }\n",
       "\n",
       "    .dataframe tbody tr th {\n",
       "        vertical-align: top;\n",
       "    }\n",
       "\n",
       "    .dataframe thead th {\n",
       "        text-align: right;\n",
       "    }\n",
       "</style>\n",
       "<table border=\"1\" class=\"dataframe\">\n",
       "  <thead>\n",
       "    <tr style=\"text-align: right;\">\n",
       "      <th></th>\n",
       "      <th>IRUC</th>\n",
       "      <th>CodSector</th>\n",
       "      <th>Clave</th>\n",
       "      <th>Utility</th>\n",
       "    </tr>\n",
       "  </thead>\n",
       "  <tbody>\n",
       "    <tr>\n",
       "      <th>48719</th>\n",
       "      <td>00000122510</td>\n",
       "      <td>11</td>\n",
       "      <td>061</td>\n",
       "      <td>-33.675827</td>\n",
       "    </tr>\n",
       "    <tr>\n",
       "      <th>31973</th>\n",
       "      <td>00000010756</td>\n",
       "      <td>11</td>\n",
       "      <td>061</td>\n",
       "      <td>-27.165397</td>\n",
       "    </tr>\n",
       "    <tr>\n",
       "      <th>27214</th>\n",
       "      <td>00000011052</td>\n",
       "      <td>11</td>\n",
       "      <td>061</td>\n",
       "      <td>-26.340844</td>\n",
       "    </tr>\n",
       "    <tr>\n",
       "      <th>34171</th>\n",
       "      <td>00000032901</td>\n",
       "      <td>11</td>\n",
       "      <td>061</td>\n",
       "      <td>-24.985856</td>\n",
       "    </tr>\n",
       "    <tr>\n",
       "      <th>24132</th>\n",
       "      <td>00000027390</td>\n",
       "      <td>11</td>\n",
       "      <td>061</td>\n",
       "      <td>-24.643831</td>\n",
       "    </tr>\n",
       "    <tr>\n",
       "      <th>...</th>\n",
       "      <td>...</td>\n",
       "      <td>...</td>\n",
       "      <td>...</td>\n",
       "      <td>...</td>\n",
       "    </tr>\n",
       "    <tr>\n",
       "      <th>14499</th>\n",
       "      <td>00000018708</td>\n",
       "      <td>11</td>\n",
       "      <td>061</td>\n",
       "      <td>141.060905</td>\n",
       "    </tr>\n",
       "    <tr>\n",
       "      <th>32894</th>\n",
       "      <td>00000011050</td>\n",
       "      <td>11</td>\n",
       "      <td>061</td>\n",
       "      <td>163.655989</td>\n",
       "    </tr>\n",
       "    <tr>\n",
       "      <th>41818</th>\n",
       "      <td>00000016567</td>\n",
       "      <td>11</td>\n",
       "      <td>061</td>\n",
       "      <td>190.781272</td>\n",
       "    </tr>\n",
       "    <tr>\n",
       "      <th>49325</th>\n",
       "      <td>00000015538</td>\n",
       "      <td>11</td>\n",
       "      <td>061</td>\n",
       "      <td>449.616213</td>\n",
       "    </tr>\n",
       "    <tr>\n",
       "      <th>27072</th>\n",
       "      <td>00000010223</td>\n",
       "      <td>11</td>\n",
       "      <td>061</td>\n",
       "      <td>466.157664</td>\n",
       "    </tr>\n",
       "  </tbody>\n",
       "</table>\n",
       "<p>842 rows × 4 columns</p>\n",
       "</div>"
      ],
      "text/plain": [
       "              IRUC CodSector Clave     Utility\n",
       "48719  00000122510        11   061  -33.675827\n",
       "31973  00000010756        11   061  -27.165397\n",
       "27214  00000011052        11   061  -26.340844\n",
       "34171  00000032901        11   061  -24.985856\n",
       "24132  00000027390        11   061  -24.643831\n",
       "...            ...       ...   ...         ...\n",
       "14499  00000018708        11   061  141.060905\n",
       "32894  00000011050        11   061  163.655989\n",
       "41818  00000016567        11   061  190.781272\n",
       "49325  00000015538        11   061  449.616213\n",
       "27072  00000010223        11   061  466.157664\n",
       "\n",
       "[842 rows x 4 columns]"
      ]
     },
     "execution_count": 19,
     "metadata": {},
     "output_type": "execute_result"
    }
   ],
   "source": [
    "base_er.sort_values('Utility')"
   ]
  },
  {
   "cell_type": "markdown",
   "metadata": {
    "id": "NWT9OLiGl049"
   },
   "source": [
    "## Uniendo ambas bases de datos"
   ]
  },
  {
   "cell_type": "code",
   "execution_count": 20,
   "metadata": {
    "colab": {
     "base_uri": "https://localhost:8080/",
     "height": 423
    },
    "id": "2jIo8AFQoted",
    "outputId": "57052644-e68a-4c46-fbbb-8c1884e602db"
   },
   "outputs": [
    {
     "data": {
      "text/html": [
       "<div>\n",
       "<style scoped>\n",
       "    .dataframe tbody tr th:only-of-type {\n",
       "        vertical-align: middle;\n",
       "    }\n",
       "\n",
       "    .dataframe tbody tr th {\n",
       "        vertical-align: top;\n",
       "    }\n",
       "\n",
       "    .dataframe thead th {\n",
       "        text-align: right;\n",
       "    }\n",
       "</style>\n",
       "<table border=\"1\" class=\"dataframe\">\n",
       "  <thead>\n",
       "    <tr style=\"text-align: right;\">\n",
       "      <th></th>\n",
       "      <th>IRUC</th>\n",
       "      <th>CodSector</th>\n",
       "      <th>Activos</th>\n",
       "    </tr>\n",
       "  </thead>\n",
       "  <tbody>\n",
       "    <tr>\n",
       "      <th>42</th>\n",
       "      <td>00000009996</td>\n",
       "      <td>11</td>\n",
       "      <td>37.071421</td>\n",
       "    </tr>\n",
       "    <tr>\n",
       "      <th>114</th>\n",
       "      <td>00000013896</td>\n",
       "      <td>11</td>\n",
       "      <td>19.322966</td>\n",
       "    </tr>\n",
       "    <tr>\n",
       "      <th>186</th>\n",
       "      <td>00000010325</td>\n",
       "      <td>11</td>\n",
       "      <td>91.801660</td>\n",
       "    </tr>\n",
       "    <tr>\n",
       "      <th>258</th>\n",
       "      <td>00000011609</td>\n",
       "      <td>11</td>\n",
       "      <td>17.440446</td>\n",
       "    </tr>\n",
       "    <tr>\n",
       "      <th>330</th>\n",
       "      <td>00000009959</td>\n",
       "      <td>11</td>\n",
       "      <td>344.273677</td>\n",
       "    </tr>\n",
       "    <tr>\n",
       "      <th>...</th>\n",
       "      <td>...</td>\n",
       "      <td>...</td>\n",
       "      <td>...</td>\n",
       "    </tr>\n",
       "    <tr>\n",
       "      <th>51099</th>\n",
       "      <td>00000145794</td>\n",
       "      <td>11</td>\n",
       "      <td>5.804285</td>\n",
       "    </tr>\n",
       "    <tr>\n",
       "      <th>51144</th>\n",
       "      <td>00000016375</td>\n",
       "      <td>11</td>\n",
       "      <td>10.077662</td>\n",
       "    </tr>\n",
       "    <tr>\n",
       "      <th>51221</th>\n",
       "      <td>00000013759</td>\n",
       "      <td>11</td>\n",
       "      <td>7.741159</td>\n",
       "    </tr>\n",
       "    <tr>\n",
       "      <th>51282</th>\n",
       "      <td>00000017061</td>\n",
       "      <td>11</td>\n",
       "      <td>7.723469</td>\n",
       "    </tr>\n",
       "    <tr>\n",
       "      <th>51343</th>\n",
       "      <td>00000033329</td>\n",
       "      <td>11</td>\n",
       "      <td>6.759145</td>\n",
       "    </tr>\n",
       "  </tbody>\n",
       "</table>\n",
       "<p>842 rows × 3 columns</p>\n",
       "</div>"
      ],
      "text/plain": [
       "              IRUC CodSector     Activos\n",
       "42     00000009996        11   37.071421\n",
       "114    00000013896        11   19.322966\n",
       "186    00000010325        11   91.801660\n",
       "258    00000011609        11   17.440446\n",
       "330    00000009959        11  344.273677\n",
       "...            ...       ...         ...\n",
       "51099  00000145794        11    5.804285\n",
       "51144  00000016375        11   10.077662\n",
       "51221  00000013759        11    7.741159\n",
       "51282  00000017061        11    7.723469\n",
       "51343  00000033329        11    6.759145\n",
       "\n",
       "[842 rows x 3 columns]"
      ]
     },
     "execution_count": 20,
     "metadata": {},
     "output_type": "execute_result"
    }
   ],
   "source": [
    "data_ef"
   ]
  },
  {
   "cell_type": "code",
   "execution_count": 21,
   "metadata": {
    "colab": {
     "base_uri": "https://localhost:8080/",
     "height": 423
    },
    "id": "VCNxYqMsos01",
    "outputId": "f8261545-0333-4360-d0d5-37e49af0434a"
   },
   "outputs": [
    {
     "data": {
      "text/html": [
       "<div>\n",
       "<style scoped>\n",
       "    .dataframe tbody tr th:only-of-type {\n",
       "        vertical-align: middle;\n",
       "    }\n",
       "\n",
       "    .dataframe tbody tr th {\n",
       "        vertical-align: top;\n",
       "    }\n",
       "\n",
       "    .dataframe thead th {\n",
       "        text-align: right;\n",
       "    }\n",
       "</style>\n",
       "<table border=\"1\" class=\"dataframe\">\n",
       "  <thead>\n",
       "    <tr style=\"text-align: right;\">\n",
       "      <th></th>\n",
       "      <th>IRUC</th>\n",
       "      <th>CodSector</th>\n",
       "      <th>Clave</th>\n",
       "      <th>Utility</th>\n",
       "    </tr>\n",
       "  </thead>\n",
       "  <tbody>\n",
       "    <tr>\n",
       "      <th>6</th>\n",
       "      <td>00000016131</td>\n",
       "      <td>11</td>\n",
       "      <td>061</td>\n",
       "      <td>7.581764</td>\n",
       "    </tr>\n",
       "    <tr>\n",
       "      <th>67</th>\n",
       "      <td>00000030417</td>\n",
       "      <td>11</td>\n",
       "      <td>061</td>\n",
       "      <td>1.091191</td>\n",
       "    </tr>\n",
       "    <tr>\n",
       "      <th>88</th>\n",
       "      <td>00000009960</td>\n",
       "      <td>11</td>\n",
       "      <td>061</td>\n",
       "      <td>-5.398127</td>\n",
       "    </tr>\n",
       "    <tr>\n",
       "      <th>148</th>\n",
       "      <td>00000010524</td>\n",
       "      <td>11</td>\n",
       "      <td>061</td>\n",
       "      <td>0.674295</td>\n",
       "    </tr>\n",
       "    <tr>\n",
       "      <th>168</th>\n",
       "      <td>00000124984</td>\n",
       "      <td>11</td>\n",
       "      <td>061</td>\n",
       "      <td>0.290803</td>\n",
       "    </tr>\n",
       "    <tr>\n",
       "      <th>...</th>\n",
       "      <td>...</td>\n",
       "      <td>...</td>\n",
       "      <td>...</td>\n",
       "      <td>...</td>\n",
       "    </tr>\n",
       "    <tr>\n",
       "      <th>51063</th>\n",
       "      <td>00000113173</td>\n",
       "      <td>11</td>\n",
       "      <td>061</td>\n",
       "      <td>0.460107</td>\n",
       "    </tr>\n",
       "    <tr>\n",
       "      <th>51124</th>\n",
       "      <td>00000029153</td>\n",
       "      <td>11</td>\n",
       "      <td>061</td>\n",
       "      <td>1.606037</td>\n",
       "    </tr>\n",
       "    <tr>\n",
       "      <th>51185</th>\n",
       "      <td>00000016406</td>\n",
       "      <td>11</td>\n",
       "      <td>061</td>\n",
       "      <td>0.502365</td>\n",
       "    </tr>\n",
       "    <tr>\n",
       "      <th>51246</th>\n",
       "      <td>00000120743</td>\n",
       "      <td>11</td>\n",
       "      <td>061</td>\n",
       "      <td>1.264818</td>\n",
       "    </tr>\n",
       "    <tr>\n",
       "      <th>51304</th>\n",
       "      <td>00000033560</td>\n",
       "      <td>11</td>\n",
       "      <td>061</td>\n",
       "      <td>0.405350</td>\n",
       "    </tr>\n",
       "  </tbody>\n",
       "</table>\n",
       "<p>842 rows × 4 columns</p>\n",
       "</div>"
      ],
      "text/plain": [
       "              IRUC CodSector Clave   Utility\n",
       "6      00000016131        11   061  7.581764\n",
       "67     00000030417        11   061  1.091191\n",
       "88     00000009960        11   061 -5.398127\n",
       "148    00000010524        11   061  0.674295\n",
       "168    00000124984        11   061  0.290803\n",
       "...            ...       ...   ...       ...\n",
       "51063  00000113173        11   061  0.460107\n",
       "51124  00000029153        11   061  1.606037\n",
       "51185  00000016406        11   061  0.502365\n",
       "51246  00000120743        11   061  1.264818\n",
       "51304  00000033560        11   061  0.405350\n",
       "\n",
       "[842 rows x 4 columns]"
      ]
     },
     "execution_count": 21,
     "metadata": {},
     "output_type": "execute_result"
    }
   ],
   "source": [
    "base_er"
   ]
  },
  {
   "cell_type": "code",
   "execution_count": 22,
   "metadata": {
    "colab": {
     "base_uri": "https://localhost:8080/"
    },
    "id": "rFwSceGfoM2u",
    "outputId": "ee3f2d28-1a5a-4b9b-a609-1b1173cac8d8"
   },
   "outputs": [
    {
     "data": {
      "text/plain": [
       "(842, 5)"
      ]
     },
     "execution_count": 22,
     "metadata": {},
     "output_type": "execute_result"
    }
   ],
   "source": [
    "result =pd.merge(data_ef, base_er, how='inner')\n",
    "result.shape"
   ]
  },
  {
   "cell_type": "code",
   "execution_count": 23,
   "metadata": {
    "colab": {
     "base_uri": "https://localhost:8080/",
     "height": 143
    },
    "id": "lBiUEvByp5N8",
    "outputId": "159f385d-18d4-4e57-d0ad-c1d00cb65817"
   },
   "outputs": [
    {
     "data": {
      "text/html": [
       "<div>\n",
       "<style scoped>\n",
       "    .dataframe tbody tr th:only-of-type {\n",
       "        vertical-align: middle;\n",
       "    }\n",
       "\n",
       "    .dataframe tbody tr th {\n",
       "        vertical-align: top;\n",
       "    }\n",
       "\n",
       "    .dataframe thead th {\n",
       "        text-align: right;\n",
       "    }\n",
       "</style>\n",
       "<table border=\"1\" class=\"dataframe\">\n",
       "  <thead>\n",
       "    <tr style=\"text-align: right;\">\n",
       "      <th></th>\n",
       "      <th>IRUC</th>\n",
       "      <th>CodSector</th>\n",
       "      <th>Activos</th>\n",
       "      <th>Clave</th>\n",
       "      <th>Utility</th>\n",
       "    </tr>\n",
       "  </thead>\n",
       "  <tbody>\n",
       "    <tr>\n",
       "      <th>0</th>\n",
       "      <td>00000009996</td>\n",
       "      <td>11</td>\n",
       "      <td>37.071421</td>\n",
       "      <td>061</td>\n",
       "      <td>1.014691</td>\n",
       "    </tr>\n",
       "    <tr>\n",
       "      <th>1</th>\n",
       "      <td>00000013896</td>\n",
       "      <td>11</td>\n",
       "      <td>19.322966</td>\n",
       "      <td>061</td>\n",
       "      <td>-4.309016</td>\n",
       "    </tr>\n",
       "    <tr>\n",
       "      <th>2</th>\n",
       "      <td>00000010325</td>\n",
       "      <td>11</td>\n",
       "      <td>91.801660</td>\n",
       "      <td>061</td>\n",
       "      <td>-8.041010</td>\n",
       "    </tr>\n",
       "  </tbody>\n",
       "</table>\n",
       "</div>"
      ],
      "text/plain": [
       "          IRUC CodSector    Activos Clave   Utility\n",
       "0  00000009996        11  37.071421   061  1.014691\n",
       "1  00000013896        11  19.322966   061 -4.309016\n",
       "2  00000010325        11  91.801660   061 -8.041010"
      ]
     },
     "execution_count": 23,
     "metadata": {},
     "output_type": "execute_result"
    }
   ],
   "source": [
    "result.head(3)"
   ]
  },
  {
   "cell_type": "code",
   "execution_count": 24,
   "metadata": {
    "colab": {
     "base_uri": "https://localhost:8080/"
    },
    "id": "spVijTC_b1EO",
    "outputId": "0f533e18-5422-43de-fef7-31bec003b6b3"
   },
   "outputs": [
    {
     "data": {
      "text/plain": [
       "count    842.000000\n",
       "mean       5.251716\n",
       "std       27.123865\n",
       "min      -33.675827\n",
       "25%        0.179858\n",
       "50%        0.857543\n",
       "75%        2.965916\n",
       "max      466.157664\n",
       "Name: Utility, dtype: float64"
      ]
     },
     "execution_count": 24,
     "metadata": {},
     "output_type": "execute_result"
    }
   ],
   "source": [
    "result['Utility'].describe()"
   ]
  },
  {
   "cell_type": "markdown",
   "metadata": {
    "id": "vJGPNzf8pB0U"
   },
   "source": [
    "## Calculo del ROA"
   ]
  },
  {
   "cell_type": "code",
   "execution_count": 25,
   "metadata": {
    "colab": {
     "base_uri": "https://localhost:8080/",
     "height": 175
    },
    "id": "Rjp8XvxZl20d",
    "outputId": "0a05f3e4-682c-44a6-db5b-147e857ee40b"
   },
   "outputs": [
    {
     "data": {
      "text/html": [
       "<div>\n",
       "<style scoped>\n",
       "    .dataframe tbody tr th:only-of-type {\n",
       "        vertical-align: middle;\n",
       "    }\n",
       "\n",
       "    .dataframe tbody tr th {\n",
       "        vertical-align: top;\n",
       "    }\n",
       "\n",
       "    .dataframe thead th {\n",
       "        text-align: right;\n",
       "    }\n",
       "</style>\n",
       "<table border=\"1\" class=\"dataframe\">\n",
       "  <thead>\n",
       "    <tr style=\"text-align: right;\">\n",
       "      <th></th>\n",
       "      <th>IRUC</th>\n",
       "      <th>CodSector</th>\n",
       "      <th>Activos</th>\n",
       "      <th>Clave</th>\n",
       "      <th>Utility</th>\n",
       "      <th>ROA</th>\n",
       "    </tr>\n",
       "  </thead>\n",
       "  <tbody>\n",
       "    <tr>\n",
       "      <th>0</th>\n",
       "      <td>00000009996</td>\n",
       "      <td>11</td>\n",
       "      <td>37.071421</td>\n",
       "      <td>061</td>\n",
       "      <td>1.014691</td>\n",
       "      <td>2.737125</td>\n",
       "    </tr>\n",
       "    <tr>\n",
       "      <th>1</th>\n",
       "      <td>00000013896</td>\n",
       "      <td>11</td>\n",
       "      <td>19.322966</td>\n",
       "      <td>061</td>\n",
       "      <td>-4.309016</td>\n",
       "      <td>-22.299972</td>\n",
       "    </tr>\n",
       "    <tr>\n",
       "      <th>2</th>\n",
       "      <td>00000010325</td>\n",
       "      <td>11</td>\n",
       "      <td>91.801660</td>\n",
       "      <td>061</td>\n",
       "      <td>-8.041010</td>\n",
       "      <td>-8.759112</td>\n",
       "    </tr>\n",
       "    <tr>\n",
       "      <th>3</th>\n",
       "      <td>00000011609</td>\n",
       "      <td>11</td>\n",
       "      <td>17.440446</td>\n",
       "      <td>061</td>\n",
       "      <td>0.619705</td>\n",
       "      <td>3.553263</td>\n",
       "    </tr>\n",
       "  </tbody>\n",
       "</table>\n",
       "</div>"
      ],
      "text/plain": [
       "          IRUC CodSector    Activos Clave   Utility        ROA\n",
       "0  00000009996        11  37.071421   061  1.014691   2.737125\n",
       "1  00000013896        11  19.322966   061 -4.309016 -22.299972\n",
       "2  00000010325        11  91.801660   061 -8.041010  -8.759112\n",
       "3  00000011609        11  17.440446   061  0.619705   3.553263"
      ]
     },
     "execution_count": 25,
     "metadata": {},
     "output_type": "execute_result"
    }
   ],
   "source": [
    "result['ROA'] = (result['Utility'] / result['Activos'] )*100\n",
    "result.head(4)"
   ]
  },
  {
   "cell_type": "code",
   "execution_count": 26,
   "metadata": {
    "colab": {
     "base_uri": "https://localhost:8080/"
    },
    "id": "r44lsG81pSzs",
    "outputId": "fdaa0dee-9655-40e1-abb4-3a1247c85b26"
   },
   "outputs": [
    {
     "data": {
      "text/plain": [
       "count    842.000000\n",
       "mean       4.412435\n",
       "std        8.768000\n",
       "min      -84.816916\n",
       "25%        0.832017\n",
       "50%        3.452078\n",
       "75%        6.966020\n",
       "max       55.820832\n",
       "Name: ROA, dtype: float64"
      ]
     },
     "execution_count": 26,
     "metadata": {},
     "output_type": "execute_result"
    }
   ],
   "source": [
    "result['ROA'].describe()"
   ]
  },
  {
   "cell_type": "code",
   "execution_count": 27,
   "metadata": {
    "colab": {
     "base_uri": "https://localhost:8080/",
     "height": 271
    },
    "id": "B_wJoXcCrAyV",
    "outputId": "b04065da-4fdc-4295-8993-913c3e1576a3"
   },
   "outputs": [
    {
     "name": "stderr",
     "output_type": "stream",
     "text": [
      "C:\\Users\\edinson\\AppData\\Local\\Temp\\ipykernel_5636\\2409138246.py:1: FutureWarning: Indexing with multiple keys (implicitly converted to a tuple of keys) will be deprecated, use a list instead.\n",
      "  result.groupby(['CodSector'])['Activos','Utility','ROA'].describe()\n"
     ]
    },
    {
     "data": {
      "text/html": [
       "<div>\n",
       "<style scoped>\n",
       "    .dataframe tbody tr th:only-of-type {\n",
       "        vertical-align: middle;\n",
       "    }\n",
       "\n",
       "    .dataframe tbody tr th {\n",
       "        vertical-align: top;\n",
       "    }\n",
       "\n",
       "    .dataframe thead tr th {\n",
       "        text-align: left;\n",
       "    }\n",
       "\n",
       "    .dataframe thead tr:last-of-type th {\n",
       "        text-align: right;\n",
       "    }\n",
       "</style>\n",
       "<table border=\"1\" class=\"dataframe\">\n",
       "  <thead>\n",
       "    <tr>\n",
       "      <th></th>\n",
       "      <th colspan=\"8\" halign=\"left\">Activos</th>\n",
       "      <th colspan=\"5\" halign=\"left\">Utility</th>\n",
       "      <th colspan=\"8\" halign=\"left\">ROA</th>\n",
       "    </tr>\n",
       "    <tr>\n",
       "      <th></th>\n",
       "      <th>count</th>\n",
       "      <th>mean</th>\n",
       "      <th>std</th>\n",
       "      <th>min</th>\n",
       "      <th>25%</th>\n",
       "      <th>50%</th>\n",
       "      <th>75%</th>\n",
       "      <th>max</th>\n",
       "      <th>count</th>\n",
       "      <th>mean</th>\n",
       "      <th>...</th>\n",
       "      <th>75%</th>\n",
       "      <th>max</th>\n",
       "      <th>count</th>\n",
       "      <th>mean</th>\n",
       "      <th>std</th>\n",
       "      <th>min</th>\n",
       "      <th>25%</th>\n",
       "      <th>50%</th>\n",
       "      <th>75%</th>\n",
       "      <th>max</th>\n",
       "    </tr>\n",
       "    <tr>\n",
       "      <th>CodSector</th>\n",
       "      <th></th>\n",
       "      <th></th>\n",
       "      <th></th>\n",
       "      <th></th>\n",
       "      <th></th>\n",
       "      <th></th>\n",
       "      <th></th>\n",
       "      <th></th>\n",
       "      <th></th>\n",
       "      <th></th>\n",
       "      <th></th>\n",
       "      <th></th>\n",
       "      <th></th>\n",
       "      <th></th>\n",
       "      <th></th>\n",
       "      <th></th>\n",
       "      <th></th>\n",
       "      <th></th>\n",
       "      <th></th>\n",
       "      <th></th>\n",
       "      <th></th>\n",
       "    </tr>\n",
       "  </thead>\n",
       "  <tbody>\n",
       "    <tr>\n",
       "      <th>11</th>\n",
       "      <td>842.0</td>\n",
       "      <td>128.038916</td>\n",
       "      <td>485.830901</td>\n",
       "      <td>0.588763</td>\n",
       "      <td>13.141252</td>\n",
       "      <td>28.785077</td>\n",
       "      <td>87.513721</td>\n",
       "      <td>8581.819213</td>\n",
       "      <td>842.0</td>\n",
       "      <td>5.251716</td>\n",
       "      <td>...</td>\n",
       "      <td>2.965916</td>\n",
       "      <td>466.157664</td>\n",
       "      <td>842.0</td>\n",
       "      <td>4.412435</td>\n",
       "      <td>8.768</td>\n",
       "      <td>-84.816916</td>\n",
       "      <td>0.832017</td>\n",
       "      <td>3.452078</td>\n",
       "      <td>6.96602</td>\n",
       "      <td>55.820832</td>\n",
       "    </tr>\n",
       "  </tbody>\n",
       "</table>\n",
       "<p>1 rows × 24 columns</p>\n",
       "</div>"
      ],
      "text/plain": [
       "          Activos                                                          \\\n",
       "            count        mean         std       min        25%        50%   \n",
       "CodSector                                                                   \n",
       "11          842.0  128.038916  485.830901  0.588763  13.141252  28.785077   \n",
       "\n",
       "                                  Utility            ...            \\\n",
       "                 75%          max   count      mean  ...       75%   \n",
       "CodSector                                            ...             \n",
       "11         87.513721  8581.819213   842.0  5.251716  ...  2.965916   \n",
       "\n",
       "                         ROA                                                  \\\n",
       "                  max  count      mean    std        min       25%       50%   \n",
       "CodSector                                                                      \n",
       "11         466.157664  842.0  4.412435  8.768 -84.816916  0.832017  3.452078   \n",
       "\n",
       "                               \n",
       "               75%        max  \n",
       "CodSector                      \n",
       "11         6.96602  55.820832  \n",
       "\n",
       "[1 rows x 24 columns]"
      ]
     },
     "execution_count": 27,
     "metadata": {},
     "output_type": "execute_result"
    }
   ],
   "source": [
    "result.groupby(['CodSector'])['Activos','Utility','ROA'].describe()"
   ]
  },
  {
   "cell_type": "markdown",
   "metadata": {
    "id": "rVmL7Hy5qS-r"
   },
   "source": [
    "## Exportando hacia excel"
   ]
  },
  {
   "cell_type": "code",
   "execution_count": 29,
   "metadata": {
    "id": "VbcOxQCAqSez"
   },
   "outputs": [],
   "source": [
    "# Export to excel\n",
    "#result.to_excel('/content/Data/ROA_2019.xlsx')\n",
    "output = 'D:/Dropbox/BASES/ENAHO/Python_scripts'\n",
    "#OneDrive - Pacífico Compañía de Seguros y Reaseguros/Edinson_C/19.Universidades/759-Modulo05/Enaho01A-2021-500.sav\n",
    "#ruta\n",
    "# Se cambia la informacion de la ruta con el comando: os.chdir()\n",
    "os.chdir(output)\n",
    "os.getcwd()\n",
    "\n",
    "result.to_csv('ROA_2019.csv')\n",
    "result.to_excel('ROA_2019.xlsx')"
   ]
  },
  {
   "cell_type": "code",
   "execution_count": null,
   "metadata": {},
   "outputs": [],
   "source": []
  }
 ],
 "metadata": {
  "colab": {
   "provenance": [],
   "toc_visible": true
  },
  "kernelspec": {
   "display_name": "python_last",
   "language": "python",
   "name": "python_last"
  },
  "language_info": {
   "codemirror_mode": {
    "name": "ipython",
    "version": 3
   },
   "file_extension": ".py",
   "mimetype": "text/x-python",
   "name": "python",
   "nbconvert_exporter": "python",
   "pygments_lexer": "ipython3",
   "version": "3.10.8"
  }
 },
 "nbformat": 4,
 "nbformat_minor": 4
}
