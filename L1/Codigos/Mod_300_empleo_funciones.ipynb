{
 "cells": [
  {
   "cell_type": "markdown",
   "id": "ae7352d4-8204-4158-b6bf-48878dc2bf50",
   "metadata": {},
   "source": [
    "<center style=\"font-size: 2em; font-weight: bold;\"> Base de datos : ENAHO </center>\n",
    "<center style=\"font-size: 2em; font-weight: bold;\"> Modulo: Empleo y Educacion </center>\n"
   ]
  },
  {
   "cell_type": "markdown",
   "id": "9fbcd319-7e50-4a7d-8ffc-33bd11cdeb96",
   "metadata": {},
   "source": [
    "El proyecto del presente notebook, esta centrado en poder extraer información de la encuesta nacional de hogares (ENAHO), generando una base a nivel de ingresos y años de educacion\n",
    "\n",
    "Para generar la queña base, la cual sera denominado Mincer, se debe trabajar con variables en las bases de de diferentes modulos de la ENAHO, los cuales son:\n",
    "\n",
    "- Moudlo 300: educación\n"
   ]
  },
  {
   "cell_type": "markdown",
   "id": "82f5202a-82e0-4ab1-bcdb-66fa30538326",
   "metadata": {},
   "source": [
    "# Instalacion de Librerias"
   ]
  },
  {
   "cell_type": "code",
   "execution_count": 1,
   "id": "f89b4646-b845-4a59-85e6-a4f119112acd",
   "metadata": {},
   "outputs": [],
   "source": [
    "import pandas\n",
    "import os\n",
    "import numpy\n",
    "import sys\n",
    "import pyreadstat"
   ]
  },
  {
   "cell_type": "code",
   "execution_count": 2,
   "id": "3c38d34c-d7b3-47e9-b17f-95bbc50d7805",
   "metadata": {},
   "outputs": [],
   "source": [
    "#Ruta de carpetas\n",
    "ruta = 'D:/Dropbox/BASES/ENAHO'\n",
    "output = 'D:/Dropbox/BASES/ENAHO/Python_scripts'"
   ]
  },
  {
   "cell_type": "markdown",
   "id": "cce48862-5eda-4e56-adf0-ac1efef1d461",
   "metadata": {},
   "source": [
    "# Base de Educacion"
   ]
  },
  {
   "cell_type": "code",
   "execution_count": 10,
   "id": "9c200d85-484f-4225-8f35-10f3d834eebd",
   "metadata": {},
   "outputs": [],
   "source": [
    "info = pandas.read_stata(os.path.join(ruta,\"2021\",\"enaho01a-2021-300.dta\"), convert_categoricals=False )"
   ]
  },
  {
   "cell_type": "code",
   "execution_count": 11,
   "id": "3d2cf816-1184-4aa1-ab0a-72905bda9978",
   "metadata": {},
   "outputs": [],
   "source": [
    "def variable_reduca(frame, target, var1, var2, var3):\n",
    "    \n",
    "    \"\"\"\n",
    "    El comando variable_reduca, genera la variable de reduca, el cual permitira la variable cuantiativa de los\n",
    "    años de educacion de la persona, considerando las varuables: p301a, p301b, p301c \n",
    "    \"\"\"\n",
    "    \n",
    "    frame[var1] = pandas.to_numeric(frame[var1])\n",
    "    frame[var2] = pandas.to_numeric(frame[var2])\n",
    "    frame[var3] = pandas.to_numeric(frame[var3])\n",
    "    zeros = frame[var3].min()\n",
    "\n",
    "    frame[target] = frame[var2]\n",
    "    \n",
    "    frame.loc[(frame[var1]>=1) & (frame[var1]<=4),target] = (frame[target] + 0)\n",
    "    frame.loc[(frame[var1]>=5) & (frame[var1]<=6),target] = (frame[target] + 6)\n",
    "    frame.loc[(frame[var1]>=7) & (frame[var1]<=10),target] = (frame[target] + 11)\n",
    "    frame.loc[(frame[var1]==11),target] = (frame[target] + 16)\n",
    "    \n",
    "    return frame\n"
   ]
  },
  {
   "cell_type": "code",
   "execution_count": 12,
   "id": "b2b41613-4b4c-4356-8adc-1d19e342b87a",
   "metadata": {},
   "outputs": [
    {
     "name": "stderr",
     "output_type": "stream",
     "text": [
      "C:\\Users\\edinson\\AppData\\Local\\Temp\\ipykernel_13780\\2336180036.py:17: PerformanceWarning: DataFrame is highly fragmented.  This is usually the result of calling `frame.insert` many times, which has poor performance.  Consider joining all columns at once using pd.concat(axis=1) instead. To get a de-fragmented frame, use `newframe = frame.copy()`\n",
      "  frame[target] = frame[var1]+frame[var2]+frame[var3]+frame[var4]\n",
      "C:\\Users\\edinson\\AppData\\Local\\Temp\\ipykernel_13780\\1154872072.py:13: PerformanceWarning: DataFrame is highly fragmented.  This is usually the result of calling `frame.insert` many times, which has poor performance.  Consider joining all columns at once using pd.concat(axis=1) instead. To get a de-fragmented frame, use `newframe = frame.copy()`\n",
      "  frame[target] = frame[var2]\n"
     ]
    }
   ],
   "source": [
    "\n",
    "# Codigo de persona\n",
    "base_educa = variable_rpersona(info, \"rpersona\", \"conglome\",\"vivienda\",\"hogar\",\"codperso\")\n",
    "\n",
    "# Variabl de años de educacion\n",
    "base_educa = variable_reduca(info,'reduca',\"p301a\",\"p301b\",\"p301c\")"
   ]
  },
  {
   "cell_type": "code",
   "execution_count": 13,
   "id": "7f1e8327-31bf-4fe2-9f78-86f181f0354e",
   "metadata": {},
   "outputs": [
    {
     "data": {
      "text/plain": [
       "count    102582.000000\n",
       "mean          7.494882\n",
       "std           5.661735\n",
       "min           0.000000\n",
       "25%           1.000000\n",
       "50%           9.000000\n",
       "75%          11.000000\n",
       "max          18.000000\n",
       "Name: reduca, dtype: float64"
      ]
     },
     "execution_count": 13,
     "metadata": {},
     "output_type": "execute_result"
    }
   ],
   "source": [
    "base_educa['reduca'].describe()"
   ]
  },
  {
   "cell_type": "code",
   "execution_count": 14,
   "id": "e16267d4-7a0f-4403-b6e8-33a00ef326e0",
   "metadata": {},
   "outputs": [
    {
     "name": "stdout",
     "output_type": "stream",
     "text": [
      "Help on function variable_reduca in module __main__:\n",
      "\n",
      "variable_reduca(frame, target, var1, var2, var3)\n",
      "    El comando variable_reduca, genera la variable de reduca, el cual permitira la variable cuantiativa de los\n",
      "    años de educacion de la persona, considerando las varuables: p301a, p301b, p301c\n",
      "\n"
     ]
    }
   ],
   "source": [
    "help(variable_reduca)"
   ]
  },
  {
   "cell_type": "code",
   "execution_count": 15,
   "id": "7976fc71-44cc-4271-afda-5534090c55e4",
   "metadata": {},
   "outputs": [
    {
     "data": {
      "text/html": [
       "<div>\n",
       "<style scoped>\n",
       "    .dataframe tbody tr th:only-of-type {\n",
       "        vertical-align: middle;\n",
       "    }\n",
       "\n",
       "    .dataframe tbody tr th {\n",
       "        vertical-align: top;\n",
       "    }\n",
       "\n",
       "    .dataframe thead th {\n",
       "        text-align: right;\n",
       "    }\n",
       "</style>\n",
       "<table border=\"1\" class=\"dataframe\">\n",
       "  <thead>\n",
       "    <tr style=\"text-align: right;\">\n",
       "      <th></th>\n",
       "      <th>68677</th>\n",
       "      <th>79685</th>\n",
       "      <th>1942</th>\n",
       "      <th>91918</th>\n",
       "      <th>70426</th>\n",
       "      <th>5288</th>\n",
       "      <th>83353</th>\n",
       "      <th>55647</th>\n",
       "      <th>80162</th>\n",
       "      <th>6416</th>\n",
       "      <th>15921</th>\n",
       "      <th>20822</th>\n",
       "      <th>298</th>\n",
       "      <th>78125</th>\n",
       "      <th>44432</th>\n",
       "      <th>68904</th>\n",
       "      <th>53095</th>\n",
       "      <th>84299</th>\n",
       "      <th>56455</th>\n",
       "    </tr>\n",
       "  </thead>\n",
       "  <tbody>\n",
       "    <tr>\n",
       "      <th>p301a</th>\n",
       "      <td>6.0</td>\n",
       "      <td>6.0</td>\n",
       "      <td>3.0</td>\n",
       "      <td>1.0</td>\n",
       "      <td>4.0</td>\n",
       "      <td>6.0</td>\n",
       "      <td>6.0</td>\n",
       "      <td>1.0</td>\n",
       "      <td>6.0</td>\n",
       "      <td>6.0</td>\n",
       "      <td>8.0</td>\n",
       "      <td>2.0</td>\n",
       "      <td>3.0</td>\n",
       "      <td>5.0</td>\n",
       "      <td>4.0</td>\n",
       "      <td>3.0</td>\n",
       "      <td>5.0</td>\n",
       "      <td>1.0</td>\n",
       "      <td>6.0</td>\n",
       "    </tr>\n",
       "    <tr>\n",
       "      <th>p301b</th>\n",
       "      <td>5.0</td>\n",
       "      <td>5.0</td>\n",
       "      <td>0.0</td>\n",
       "      <td>NaN</td>\n",
       "      <td>0.0</td>\n",
       "      <td>5.0</td>\n",
       "      <td>5.0</td>\n",
       "      <td>NaN</td>\n",
       "      <td>5.0</td>\n",
       "      <td>5.0</td>\n",
       "      <td>5.0</td>\n",
       "      <td>2.0</td>\n",
       "      <td>0.0</td>\n",
       "      <td>3.0</td>\n",
       "      <td>0.0</td>\n",
       "      <td>0.0</td>\n",
       "      <td>3.0</td>\n",
       "      <td>NaN</td>\n",
       "      <td>5.0</td>\n",
       "    </tr>\n",
       "    <tr>\n",
       "      <th>p301c</th>\n",
       "      <td>NaN</td>\n",
       "      <td>NaN</td>\n",
       "      <td>4.0</td>\n",
       "      <td>NaN</td>\n",
       "      <td>6.0</td>\n",
       "      <td>NaN</td>\n",
       "      <td>NaN</td>\n",
       "      <td>NaN</td>\n",
       "      <td>NaN</td>\n",
       "      <td>NaN</td>\n",
       "      <td>NaN</td>\n",
       "      <td>NaN</td>\n",
       "      <td>1.0</td>\n",
       "      <td>NaN</td>\n",
       "      <td>6.0</td>\n",
       "      <td>5.0</td>\n",
       "      <td>NaN</td>\n",
       "      <td>NaN</td>\n",
       "      <td>NaN</td>\n",
       "    </tr>\n",
       "    <tr>\n",
       "      <th>reduca</th>\n",
       "      <td>11.0</td>\n",
       "      <td>11.0</td>\n",
       "      <td>0.0</td>\n",
       "      <td>NaN</td>\n",
       "      <td>0.0</td>\n",
       "      <td>11.0</td>\n",
       "      <td>11.0</td>\n",
       "      <td>NaN</td>\n",
       "      <td>11.0</td>\n",
       "      <td>11.0</td>\n",
       "      <td>16.0</td>\n",
       "      <td>2.0</td>\n",
       "      <td>0.0</td>\n",
       "      <td>9.0</td>\n",
       "      <td>0.0</td>\n",
       "      <td>0.0</td>\n",
       "      <td>9.0</td>\n",
       "      <td>NaN</td>\n",
       "      <td>11.0</td>\n",
       "    </tr>\n",
       "  </tbody>\n",
       "</table>\n",
       "</div>"
      ],
      "text/plain": [
       "        68677  79685  1942   91918  70426  5288   83353  55647  80162  6416   \\\n",
       "p301a     6.0    6.0    3.0    1.0    4.0    6.0    6.0    1.0    6.0    6.0   \n",
       "p301b     5.0    5.0    0.0    NaN    0.0    5.0    5.0    NaN    5.0    5.0   \n",
       "p301c     NaN    NaN    4.0    NaN    6.0    NaN    NaN    NaN    NaN    NaN   \n",
       "reduca   11.0   11.0    0.0    NaN    0.0   11.0   11.0    NaN   11.0   11.0   \n",
       "\n",
       "        15921  20822  298    78125  44432  68904  53095  84299  56455  \n",
       "p301a     8.0    2.0    3.0    5.0    4.0    3.0    5.0    1.0    6.0  \n",
       "p301b     5.0    2.0    0.0    3.0    0.0    0.0    3.0    NaN    5.0  \n",
       "p301c     NaN    NaN    1.0    NaN    6.0    5.0    NaN    NaN    NaN  \n",
       "reduca   16.0    2.0    0.0    9.0    0.0    0.0    9.0    NaN   11.0  "
      ]
     },
     "execution_count": 15,
     "metadata": {},
     "output_type": "execute_result"
    }
   ],
   "source": [
    "base_educa[['p301a','p301b','p301c','reduca']].sample(19).transpose()"
   ]
  },
  {
   "cell_type": "code",
   "execution_count": 16,
   "id": "610e4c69-7b68-40be-a441-dd4f8662e70a",
   "metadata": {},
   "outputs": [
    {
     "data": {
      "text/html": [
       "<div>\n",
       "<style scoped>\n",
       "    .dataframe tbody tr th:only-of-type {\n",
       "        vertical-align: middle;\n",
       "    }\n",
       "\n",
       "    .dataframe tbody tr th {\n",
       "        vertical-align: top;\n",
       "    }\n",
       "\n",
       "    .dataframe thead th {\n",
       "        text-align: right;\n",
       "    }\n",
       "</style>\n",
       "<table border=\"1\" class=\"dataframe\">\n",
       "  <thead>\n",
       "    <tr style=\"text-align: right;\">\n",
       "      <th></th>\n",
       "      <th>rpersona</th>\n",
       "      <th>reduca</th>\n",
       "    </tr>\n",
       "  </thead>\n",
       "  <tbody>\n",
       "    <tr>\n",
       "      <th>0</th>\n",
       "      <td>0050070031101</td>\n",
       "      <td>17.0</td>\n",
       "    </tr>\n",
       "    <tr>\n",
       "      <th>1</th>\n",
       "      <td>0050070121101</td>\n",
       "      <td>11.0</td>\n",
       "    </tr>\n",
       "    <tr>\n",
       "      <th>2</th>\n",
       "      <td>0050070221101</td>\n",
       "      <td>16.0</td>\n",
       "    </tr>\n",
       "    <tr>\n",
       "      <th>3</th>\n",
       "      <td>0050070221102</td>\n",
       "      <td>14.0</td>\n",
       "    </tr>\n",
       "  </tbody>\n",
       "</table>\n",
       "</div>"
      ],
      "text/plain": [
       "        rpersona  reduca\n",
       "0  0050070031101    17.0\n",
       "1  0050070121101    11.0\n",
       "2  0050070221101    16.0\n",
       "3  0050070221102    14.0"
      ]
     },
     "execution_count": 16,
     "metadata": {},
     "output_type": "execute_result"
    }
   ],
   "source": [
    "base_final_educa = base_educa[['rpersona','reduca']]\n",
    "base_final_educa.head(4)"
   ]
  },
  {
   "cell_type": "markdown",
   "id": "a0b49402-afd6-450a-82ba-cac75f9a47f3",
   "metadata": {},
   "source": [
    "# Exportar Exxcel"
   ]
  },
  {
   "cell_type": "code",
   "execution_count": null,
   "id": "8325359f-dd62-4c3a-87be-2671f27e28a9",
   "metadata": {},
   "outputs": [],
   "source": [
    "# Observamos al direccion actual\n",
    "os.chdir(output)\n",
    "os.getcwd()\n",
    "\n",
    "result.to_csv('BD_Educacion_2021.csv')\n",
    "result.to_excel('BD_Educacion_2021.xlsx')"
   ]
  }
 ],
 "metadata": {
  "kernelspec": {
   "display_name": "python_last",
   "language": "python",
   "name": "python_last"
  },
  "language_info": {
   "codemirror_mode": {
    "name": "ipython",
    "version": 3
   },
   "file_extension": ".py",
   "mimetype": "text/x-python",
   "name": "python",
   "nbconvert_exporter": "python",
   "pygments_lexer": "ipython3",
   "version": "3.10.8"
  },
  "toc-autonumbering": true
 },
 "nbformat": 4,
 "nbformat_minor": 5
}
